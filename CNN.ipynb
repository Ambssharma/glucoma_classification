{
 "cells": [
  {
   "cell_type": "code",
   "execution_count": 1,
   "metadata": {},
   "outputs": [
    {
     "name": "stderr",
     "output_type": "stream",
     "text": [
      "Using TensorFlow backend.\n",
      "/home/subodh/anaconda3/lib/python3.6/site-packages/keras_preprocessing/image.py:959: UserWarning: This ImageDataGenerator specifies `featurewise_center`, but it hasn't been fit on any training data. Fit it first by calling `.fit(numpy_data)`.\n",
      "  warnings.warn('This ImageDataGenerator specifies '\n",
      "/home/subodh/anaconda3/lib/python3.6/site-packages/keras_preprocessing/image.py:978: UserWarning: This ImageDataGenerator specifies `zca_whitening`, but it hasn't been fit on any training data. Fit it first by calling `.fit(numpy_data)`.\n",
      "  warnings.warn('This ImageDataGenerator specifies '\n"
     ]
    }
   ],
   "source": [
    "from keras.preprocessing.image import ImageDataGenerator, array_to_img, img_to_array, load_img\n",
    "\n",
    "datagen = ImageDataGenerator(\n",
    "        rotation_range=15,\n",
    "        width_shift_range=0.0,\n",
    "        height_shift_range=0.0,\n",
    "        shear_range=0.1,\n",
    "        zoom_range=0.2,\n",
    "        vertical_flip=True,\n",
    "        fill_mode='constant',zca_whitening=True, zca_epsilon=1e-5,featurewise_center=True)\n",
    "\n",
    "img = load_img('train/glaucoma_resized/g0018.jpg')  # this is a PIL image\n",
    "x = img_to_array(img)  # this is a Numpy array with shape (3, 150, 150)\n",
    "x = x.reshape((1,) + x.shape)  # this is a Numpy array with shape (1, 3, 150, 150)\n",
    "\n",
    "# the .flow() command below generates batches of randomly transformed images\n",
    "# and saves the results to the `preview/` directory\n",
    "i = 0\n",
    "for batch in datagen.flow(x, batch_size=1,\n",
    "                          save_to_dir='train/final_glu_aug', save_prefix='new', save_format='jpg'):\n",
    "    i += 1\n",
    "    if i > 6:\n",
    "        break  # otherwise the generator would loop indefinitely"
   ]
  },
  {
   "cell_type": "code",
   "execution_count": 3,
   "metadata": {},
   "outputs": [],
   "source": [
    "import glob\n",
    "import numpy as np\n",
    "from PIL import *\n",
    "import PIL.Image"
   ]
  },
  {
   "cell_type": "code",
   "execution_count": 4,
   "metadata": {},
   "outputs": [
    {
     "name": "stdout",
     "output_type": "stream",
     "text": [
      "(357, 605, 700, 3)\n"
     ]
    }
   ],
   "source": [
    "filelist = glob.glob('train/final_glu_aug/*.jpg')\n",
    "glu = np.array([np.array(Image.open(fname)) for fname in filelist])\n",
    "print(glu.shape)"
   ]
  },
  {
   "cell_type": "code",
   "execution_count": 5,
   "metadata": {},
   "outputs": [
    {
     "name": "stdout",
     "output_type": "stream",
     "text": [
      "(357, 605, 700, 3)\n"
     ]
    }
   ],
   "source": [
    "filelist = glob.glob('train/final_non_glu_aug/*.jpg')\n",
    "nonglu = np.array([np.array(Image.open(fname)) for fname in filelist])\n",
    "print(nonglu.shape)"
   ]
  },
  {
   "cell_type": "code",
   "execution_count": 6,
   "metadata": {},
   "outputs": [
    {
     "name": "stdout",
     "output_type": "stream",
     "text": [
      "(714, 605, 700, 3)\n"
     ]
    }
   ],
   "source": [
    "X = np.concatenate((glu,nonglu),axis=0)\n",
    "print(X.shape)"
   ]
  },
  {
   "cell_type": "code",
   "execution_count": 7,
   "metadata": {},
   "outputs": [
    {
     "name": "stdout",
     "output_type": "stream",
     "text": [
      "(714,)\n"
     ]
    }
   ],
   "source": [
    "gluL = np.array([1 for i in range(357)])\n",
    "nongluL = np.array([0 for i in range(357)])\n",
    "y = np.concatenate((gluL,nongluL),axis=0)\n",
    "print(y.shape)"
   ]
  },
  {
   "cell_type": "code",
   "execution_count": 8,
   "metadata": {},
   "outputs": [
    {
     "name": "stdout",
     "output_type": "stream",
     "text": [
      "(478, 605, 700, 3) (236, 605, 700, 3) (478,) (236,)\n"
     ]
    }
   ],
   "source": [
    "from sklearn.model_selection import train_test_split\n",
    "X_train, X_test, y_train, y_test = train_test_split(X,y,test_size=0.33, random_state=42)\n",
    "print(X_train.shape, X_test.shape, y_train.shape, y_test.shape)"
   ]
  },
  {
   "cell_type": "code",
   "execution_count": 46,
   "metadata": {},
   "outputs": [],
   "source": [
    "from keras.models import Sequential\n",
    "from keras.layers import Activation, Conv2D, MaxPooling2D, Flatten, Dropout,Dense\n",
    "model = Sequential()\n",
    "\n",
    "model.add(Conv2D(16, (3,3), padding='same', input_shape=X_train.shape[1:]))\n",
    "model.add(Activation('relu'))\n",
    "model.add(Conv2D(32, (3,3),padding='valid'))\n",
    "model.add(Activation('relu'))\n",
    "\n",
    "model.add(Conv2D(32, (3,3), strides =2))\n",
    "model.add(Activation('relu'))\n",
    "model.add(MaxPooling2D(pool_size=(2,2)))\n",
    "model.add(Dropout(0.25))\n",
    "\n",
    "model.add(Conv2D(128, (3,3)))\n",
    "model.add(Activation('relu'))\n",
    "model.add(MaxPooling2D(pool_size=(2,2)))\n",
    "model.add(Dropout(0.25))\n",
    "\n",
    "model.add(Conv2D(256, (3,3), strides =2))\n",
    "model.add(Activation('relu'))\n",
    "\n",
    "\n",
    "model.add(Flatten())\n",
    "model.add(Dense(32))\n",
    "model.add(Activation('relu'))\n",
    "model.add(Dense(16))\n",
    "model.add(Activation('relu'))\n",
    "model.add(Dropout(0.5))\n",
    "model.add(Dense(1, activation='sigmoid'))\n"
   ]
  },
  {
   "cell_type": "code",
   "execution_count": 47,
   "metadata": {},
   "outputs": [
    {
     "data": {
      "text/plain": [
       "(None, 1)"
      ]
     },
     "execution_count": 47,
     "metadata": {},
     "output_type": "execute_result"
    }
   ],
   "source": [
    "model.output_shape"
   ]
  },
  {
   "cell_type": "code",
   "execution_count": 48,
   "metadata": {},
   "outputs": [
    {
     "name": "stdout",
     "output_type": "stream",
     "text": [
      "_________________________________________________________________\n",
      "Layer (type)                 Output Shape              Param #   \n",
      "=================================================================\n",
      "conv2d_70 (Conv2D)           (None, 605, 700, 16)      448       \n",
      "_________________________________________________________________\n",
      "activation_89 (Activation)   (None, 605, 700, 16)      0         \n",
      "_________________________________________________________________\n",
      "conv2d_71 (Conv2D)           (None, 603, 698, 32)      4640      \n",
      "_________________________________________________________________\n",
      "activation_90 (Activation)   (None, 603, 698, 32)      0         \n",
      "_________________________________________________________________\n",
      "conv2d_72 (Conv2D)           (None, 301, 348, 32)      9248      \n",
      "_________________________________________________________________\n",
      "activation_91 (Activation)   (None, 301, 348, 32)      0         \n",
      "_________________________________________________________________\n",
      "max_pooling2d_37 (MaxPooling (None, 150, 174, 32)      0         \n",
      "_________________________________________________________________\n",
      "dropout_48 (Dropout)         (None, 150, 174, 32)      0         \n",
      "_________________________________________________________________\n",
      "conv2d_73 (Conv2D)           (None, 148, 172, 128)     36992     \n",
      "_________________________________________________________________\n",
      "activation_92 (Activation)   (None, 148, 172, 128)     0         \n",
      "_________________________________________________________________\n",
      "max_pooling2d_38 (MaxPooling (None, 74, 86, 128)       0         \n",
      "_________________________________________________________________\n",
      "dropout_49 (Dropout)         (None, 74, 86, 128)       0         \n",
      "_________________________________________________________________\n",
      "conv2d_74 (Conv2D)           (None, 36, 42, 256)       295168    \n",
      "_________________________________________________________________\n",
      "activation_93 (Activation)   (None, 36, 42, 256)       0         \n",
      "_________________________________________________________________\n",
      "flatten_12 (Flatten)         (None, 387072)            0         \n",
      "_________________________________________________________________\n",
      "dense_34 (Dense)             (None, 32)                12386336  \n",
      "_________________________________________________________________\n",
      "activation_94 (Activation)   (None, 32)                0         \n",
      "_________________________________________________________________\n",
      "dense_35 (Dense)             (None, 16)                528       \n",
      "_________________________________________________________________\n",
      "activation_95 (Activation)   (None, 16)                0         \n",
      "_________________________________________________________________\n",
      "dropout_50 (Dropout)         (None, 16)                0         \n",
      "_________________________________________________________________\n",
      "dense_36 (Dense)             (None, 1)                 17        \n",
      "=================================================================\n",
      "Total params: 12,733,377\n",
      "Trainable params: 12,733,377\n",
      "Non-trainable params: 0\n",
      "_________________________________________________________________\n"
     ]
    }
   ],
   "source": [
    "model.summary()"
   ]
  },
  {
   "cell_type": "code",
   "execution_count": 49,
   "metadata": {},
   "outputs": [],
   "source": [
    "# from keras import optimizers\n",
    "# sgd = optimizers.SGD(lr=0.01, decay=1e-6, momentum=0.9, nesterov=True)\n",
    "# model.compile(loss='mean_squared_error', optimizer=sgd, metrics = ['accuracy'])\n",
    "model.compile(optimizer='rmsprop',\n",
    "              loss='binary_crossentropy',\n",
    "              metrics=['accuracy'])"
   ]
  },
  {
   "cell_type": "code",
   "execution_count": 20,
   "metadata": {},
   "outputs": [
    {
     "name": "stdout",
     "output_type": "stream",
     "text": [
      "Train on 187 samples, validate on 93 samples\n",
      "Epoch 1/10\n",
      "187/187 [==============================] - 994s 5s/step - loss: 1.4735 - acc: 0.8984 - val_loss: 1.9064 - val_acc: 0.8817\n",
      "Epoch 2/10\n",
      "187/187 [==============================] - 999s 5s/step - loss: 1.5505 - acc: 0.9037 - val_loss: 1.9064 - val_acc: 0.8817\n",
      "Epoch 3/10\n",
      "187/187 [==============================] - 992s 5s/step - loss: 1.5517 - acc: 0.9037 - val_loss: 1.9064 - val_acc: 0.8817\n",
      "Epoch 4/10\n",
      "187/187 [==============================] - 985s 5s/step - loss: 1.4653 - acc: 0.9091 - val_loss: 1.9064 - val_acc: 0.8817\n",
      "Epoch 5/10\n",
      "187/187 [==============================] - 987s 5s/step - loss: 1.4791 - acc: 0.9037 - val_loss: 1.9064 - val_acc: 0.8817\n",
      "Epoch 6/10\n",
      "187/187 [==============================] - 983s 5s/step - loss: 1.4653 - acc: 0.9091 - val_loss: 1.9064 - val_acc: 0.8817\n",
      "Epoch 7/10\n",
      "187/187 [==============================] - 984s 5s/step - loss: 1.4653 - acc: 0.9091 - val_loss: 1.9064 - val_acc: 0.8817\n",
      "Epoch 8/10\n",
      "187/187 [==============================] - 985s 5s/step - loss: 1.4653 - acc: 0.9091 - val_loss: 1.9064 - val_acc: 0.8817\n",
      "Epoch 9/10\n",
      "187/187 [==============================] - 986s 5s/step - loss: 1.4653 - acc: 0.9091 - val_loss: 1.9064 - val_acc: 0.8817\n",
      "Epoch 10/10\n",
      "187/187 [==============================] - 990s 5s/step - loss: 1.4653 - acc: 0.9091 - val_loss: 1.9064 - val_acc: 0.8817\n"
     ]
    },
    {
     "data": {
      "text/plain": [
       "<keras.callbacks.History at 0x7f7f5c644160>"
      ]
     },
     "execution_count": 20,
     "metadata": {},
     "output_type": "execute_result"
    }
   ],
   "source": [
    "# model.fit(X_train, y_train, batch_size=8, epochs=30, verbose=2, validation_data=(X_test, y_test))\n",
    "model.fit(X_train, y_train, epochs=10, batch_size=32,validation_data=(X_test, y_test))"
   ]
  },
  {
   "cell_type": "code",
   "execution_count": 21,
   "metadata": {},
   "outputs": [
    {
     "name": "stdout",
     "output_type": "stream",
     "text": [
      "93/93 [==============================] - 134s 1s/step\n",
      "[1.9064414567466919, 0.8817204301075269]\n"
     ]
    }
   ],
   "source": [
    "score = model.evaluate(X_test, y_test, batch_size=4)\n",
    "print(score)"
   ]
  },
  {
   "cell_type": "code",
   "execution_count": 22,
   "metadata": {},
   "outputs": [
    {
     "data": {
      "text/plain": [
       "array([[0],\n",
       "       [0],\n",
       "       [0],\n",
       "       [0],\n",
       "       [0],\n",
       "       [0],\n",
       "       [0],\n",
       "       [0],\n",
       "       [0],\n",
       "       [0],\n",
       "       [0],\n",
       "       [0],\n",
       "       [0],\n",
       "       [0],\n",
       "       [0],\n",
       "       [0],\n",
       "       [0],\n",
       "       [0],\n",
       "       [0],\n",
       "       [0],\n",
       "       [0],\n",
       "       [0],\n",
       "       [0],\n",
       "       [0],\n",
       "       [0],\n",
       "       [0],\n",
       "       [0],\n",
       "       [0],\n",
       "       [0],\n",
       "       [0],\n",
       "       [0],\n",
       "       [0],\n",
       "       [0],\n",
       "       [0],\n",
       "       [0],\n",
       "       [0],\n",
       "       [0],\n",
       "       [0],\n",
       "       [0],\n",
       "       [0],\n",
       "       [0],\n",
       "       [0],\n",
       "       [0],\n",
       "       [0],\n",
       "       [0],\n",
       "       [0],\n",
       "       [0],\n",
       "       [0],\n",
       "       [0],\n",
       "       [0],\n",
       "       [0],\n",
       "       [0],\n",
       "       [0],\n",
       "       [0],\n",
       "       [0],\n",
       "       [0],\n",
       "       [0],\n",
       "       [0],\n",
       "       [0],\n",
       "       [0],\n",
       "       [0],\n",
       "       [0],\n",
       "       [0],\n",
       "       [0],\n",
       "       [0],\n",
       "       [0],\n",
       "       [0],\n",
       "       [0],\n",
       "       [0],\n",
       "       [0],\n",
       "       [0],\n",
       "       [0],\n",
       "       [0],\n",
       "       [0],\n",
       "       [0],\n",
       "       [0],\n",
       "       [0],\n",
       "       [0],\n",
       "       [0],\n",
       "       [0],\n",
       "       [0],\n",
       "       [0],\n",
       "       [0],\n",
       "       [0],\n",
       "       [0],\n",
       "       [0],\n",
       "       [0],\n",
       "       [0],\n",
       "       [0],\n",
       "       [0],\n",
       "       [0],\n",
       "       [0],\n",
       "       [0]], dtype=int32)"
      ]
     },
     "execution_count": 22,
     "metadata": {},
     "output_type": "execute_result"
    }
   ],
   "source": [
    "model.predict(X_test, batch_size=8)\n",
    "model.predict_classes(X_test,batch_size=8)"
   ]
  },
  {
   "cell_type": "code",
   "execution_count": null,
   "metadata": {},
   "outputs": [],
   "source": []
  }
 ],
 "metadata": {
  "kernelspec": {
   "display_name": "Python 3",
   "language": "python",
   "name": "python3"
  },
  "language_info": {
   "codemirror_mode": {
    "name": "ipython",
    "version": 3
   },
   "file_extension": ".py",
   "mimetype": "text/x-python",
   "name": "python",
   "nbconvert_exporter": "python",
   "pygments_lexer": "ipython3",
   "version": "3.6.6"
  }
 },
 "nbformat": 4,
 "nbformat_minor": 2
}
