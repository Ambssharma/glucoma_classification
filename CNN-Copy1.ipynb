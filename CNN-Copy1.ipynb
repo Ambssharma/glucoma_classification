{
 "cells": [
  {
   "cell_type": "code",
   "execution_count": 3,
   "metadata": {},
   "outputs": [],
   "source": [
    "import glob\n",
    "import numpy as np\n",
    "from PIL import *\n",
    "import PIL.Image"
   ]
  },
  {
   "cell_type": "code",
   "execution_count": 4,
   "metadata": {},
   "outputs": [
    {
     "name": "stdout",
     "output_type": "stream",
     "text": [
      "(40, 605, 700, 3)\n"
     ]
    }
   ],
   "source": [
    "filelist = glob.glob('train/glaucoma_resized/*.jpg')              #change '/'\n",
    "glu = np.array([np.array(Image.open(fname)) for fname in filelist])\n",
    "print(glu.shape)"
   ]
  },
  {
   "cell_type": "code",
   "execution_count": 5,
   "metadata": {},
   "outputs": [
    {
     "name": "stdout",
     "output_type": "stream",
     "text": [
      "(40, 605, 700, 3)\n"
     ]
    }
   ],
   "source": [
    "filelist = glob.glob('train/ng/*.jpg')         #change '/'\n",
    "nonglu = np.array([np.array(Image.open(fname)) for fname in filelist])\n",
    "print(nonglu.shape)"
   ]
  },
  {
   "cell_type": "code",
   "execution_count": 6,
   "metadata": {},
   "outputs": [
    {
     "name": "stdout",
     "output_type": "stream",
     "text": [
      "(80, 605, 700, 3)\n",
      "(605, 700, 3)\n"
     ]
    }
   ],
   "source": [
    "X = np.concatenate((glu,nonglu),axis=0)\n",
    "print(X.shape)\n",
    "print(X[1,:].shape)"
   ]
  },
  {
   "cell_type": "code",
   "execution_count": 7,
   "metadata": {},
   "outputs": [
    {
     "name": "stdout",
     "output_type": "stream",
     "text": [
      "(80,)\n"
     ]
    }
   ],
   "source": [
    "gluL = np.array([1 for i in range(40)])\n",
    "nongluL = np.array([0 for i in range(40)])\n",
    "y = np.concatenate((gluL,nongluL),axis=0)\n",
    "print(y.shape)"
   ]
  },
  {
   "cell_type": "code",
   "execution_count": 8,
   "metadata": {},
   "outputs": [
    {
     "name": "stdout",
     "output_type": "stream",
     "text": [
      "(80, 605, 700, 3)\n"
     ]
    }
   ],
   "source": [
    "from sklearn.preprocessing import normalize \n",
    "for i in range(80):\n",
    "    X[i,:,:,0] = normalize(X[i,:,:,0])\n",
    "    X[i,:,:,1] = normalize(X[i,:,:,1])\n",
    "    X[i,:,:,2] = normalize(X[i,:,:,2])\n",
    "    \n",
    "print(X.shape)"
   ]
  },
  {
   "cell_type": "code",
   "execution_count": 9,
   "metadata": {},
   "outputs": [
    {
     "name": "stdout",
     "output_type": "stream",
     "text": [
      "(64, 605, 700, 3) (16, 605, 700, 3) (64,) (16,)\n",
      "[1 1 1 1 1 1 1 0 1 1 0 1 0 1 0 0]\n",
      "[0 0 0 0 1 0 1 0 1 0 0 0 1 1 0 0 1 0 0 1 0 1 0 1 0 1 1 1 1 0 1 1 0 0 0 0 1\n",
      " 1 0 1 0 1 0 0 0 1 1 0 0 0 0 1 1 1 0 1 1 1 0 1 0 0 1 0]\n"
     ]
    }
   ],
   "source": [
    "from sklearn.model_selection import train_test_split\n",
    "X_train, X_test, y_train, y_test = train_test_split(X,y,test_size=0.20, random_state=42)\n",
    "print(X_train.shape, X_test.shape, y_train.shape, y_test.shape)\n",
    "print(y_test)\n",
    "print(y_train)"
   ]
  },
  {
   "cell_type": "code",
   "execution_count": 26,
   "metadata": {},
   "outputs": [],
   "source": [
    "from keras.models import Sequential\n",
    "from keras.layers import Activation, Conv2D, MaxPooling2D, Flatten, Dropout,Dense\n",
    "model = Sequential()\n",
    "\n",
    "model.add(Conv2D(32, (3,3), padding='same',kernel_initializer='random_uniform',\n",
    "                bias_initializer='zeros', input_shape=X_train.shape[1:]))\n",
    "model.add(Activation('sigmoid'))\n",
    "# model.add(Dropout(0.35))\n",
    "model.add(Conv2D(32, (3,3),padding='valid',kernel_initializer='random_uniform',\n",
    "                bias_initializer='zeros'))\n",
    "model.add(Activation('sigmoid'))\n",
    "# model.add(Dropout(0.35))\n",
    "\n",
    "model.add(Conv2D(64, (3,3), strides =2,kernel_initializer='random_uniform',\n",
    "                bias_initializer='zeros'))\n",
    "model.add(Activation('sigmoid'))\n",
    "# model.add(Dropout(0.35))\n",
    "model.add(MaxPooling2D(pool_size=(2,2)))\n",
    "\n",
    "model.add(Conv2D(256, (3,3), strides=2,kernel_initializer='random_uniform',\n",
    "                bias_initializer='zeros'))\n",
    "model.add(Activation('sigmoid'))\n",
    "# model.add(Dropout(0.35))\n",
    "model.add(MaxPooling2D(pool_size=(2,2)))\n",
    "\n",
    "model.add(Conv2D(512, (3,3), strides =2,kernel_initializer='random_uniform',\n",
    "                bias_initializer='zeros'))\n",
    "model.add(Activation('sigmoid'))\n",
    "# model.add(Dropout(0.35))\n",
    "model.add(MaxPooling2D(pool_size=(2,2)))\n",
    "\n",
    "model.add(Conv2D(1024, (1,1), strides =2,kernel_initializer='random_uniform',\n",
    "                bias_initializer='zeros'))\n",
    "model.add(Activation('sigmoid'))\n",
    "# model.add(Dropout(0.35))\n",
    "\n",
    "model.add(Flatten())\n",
    "model.add(Dense(32,kernel_initializer='random_uniform',\n",
    "                bias_initializer='zeros'))\n",
    "model.add(Activation('sigmoid'))\n",
    "# model.add(Dropout(0.35))\n",
    "model.add(Dense(16,kernel_initializer='random_uniform',\n",
    "                bias_initializer='zeros'))\n",
    "model.add(Activation('sigmoid'))\n",
    "# model.add(Dropout(0.5))\n",
    "model.add(Dense(1, activation='sigmoid'))\n"
   ]
  },
  {
   "cell_type": "code",
   "execution_count": 27,
   "metadata": {},
   "outputs": [
    {
     "data": {
      "text/plain": [
       "(None, 1)"
      ]
     },
     "execution_count": 27,
     "metadata": {},
     "output_type": "execute_result"
    }
   ],
   "source": [
    "model.output_shape"
   ]
  },
  {
   "cell_type": "code",
   "execution_count": 28,
   "metadata": {},
   "outputs": [
    {
     "name": "stdout",
     "output_type": "stream",
     "text": [
      "_________________________________________________________________\n",
      "Layer (type)                 Output Shape              Param #   \n",
      "=================================================================\n",
      "conv2d_13 (Conv2D)           (None, 605, 700, 32)      896       \n",
      "_________________________________________________________________\n",
      "activation_17 (Activation)   (None, 605, 700, 32)      0         \n",
      "_________________________________________________________________\n",
      "dropout_17 (Dropout)         (None, 605, 700, 32)      0         \n",
      "_________________________________________________________________\n",
      "conv2d_14 (Conv2D)           (None, 603, 698, 32)      9248      \n",
      "_________________________________________________________________\n",
      "activation_18 (Activation)   (None, 603, 698, 32)      0         \n",
      "_________________________________________________________________\n",
      "dropout_18 (Dropout)         (None, 603, 698, 32)      0         \n",
      "_________________________________________________________________\n",
      "conv2d_15 (Conv2D)           (None, 301, 348, 64)      18496     \n",
      "_________________________________________________________________\n",
      "activation_19 (Activation)   (None, 301, 348, 64)      0         \n",
      "_________________________________________________________________\n",
      "dropout_19 (Dropout)         (None, 301, 348, 64)      0         \n",
      "_________________________________________________________________\n",
      "max_pooling2d_7 (MaxPooling2 (None, 150, 174, 64)      0         \n",
      "_________________________________________________________________\n",
      "conv2d_16 (Conv2D)           (None, 74, 86, 256)       147712    \n",
      "_________________________________________________________________\n",
      "activation_20 (Activation)   (None, 74, 86, 256)       0         \n",
      "_________________________________________________________________\n",
      "dropout_20 (Dropout)         (None, 74, 86, 256)       0         \n",
      "_________________________________________________________________\n",
      "max_pooling2d_8 (MaxPooling2 (None, 37, 43, 256)       0         \n",
      "_________________________________________________________________\n",
      "conv2d_17 (Conv2D)           (None, 18, 21, 512)       1180160   \n",
      "_________________________________________________________________\n",
      "activation_21 (Activation)   (None, 18, 21, 512)       0         \n",
      "_________________________________________________________________\n",
      "dropout_21 (Dropout)         (None, 18, 21, 512)       0         \n",
      "_________________________________________________________________\n",
      "max_pooling2d_9 (MaxPooling2 (None, 9, 10, 512)        0         \n",
      "_________________________________________________________________\n",
      "conv2d_18 (Conv2D)           (None, 5, 5, 1024)        525312    \n",
      "_________________________________________________________________\n",
      "activation_22 (Activation)   (None, 5, 5, 1024)        0         \n",
      "_________________________________________________________________\n",
      "dropout_22 (Dropout)         (None, 5, 5, 1024)        0         \n",
      "_________________________________________________________________\n",
      "flatten_3 (Flatten)          (None, 25600)             0         \n",
      "_________________________________________________________________\n",
      "dense_7 (Dense)              (None, 32)                819232    \n",
      "_________________________________________________________________\n",
      "activation_23 (Activation)   (None, 32)                0         \n",
      "_________________________________________________________________\n",
      "dropout_23 (Dropout)         (None, 32)                0         \n",
      "_________________________________________________________________\n",
      "dense_8 (Dense)              (None, 16)                528       \n",
      "_________________________________________________________________\n",
      "activation_24 (Activation)   (None, 16)                0         \n",
      "_________________________________________________________________\n",
      "dropout_24 (Dropout)         (None, 16)                0         \n",
      "_________________________________________________________________\n",
      "dense_9 (Dense)              (None, 1)                 17        \n",
      "=================================================================\n",
      "Total params: 2,701,601\n",
      "Trainable params: 2,701,601\n",
      "Non-trainable params: 0\n",
      "_________________________________________________________________\n"
     ]
    }
   ],
   "source": [
    "model.summary()"
   ]
  },
  {
   "cell_type": "code",
   "execution_count": 29,
   "metadata": {},
   "outputs": [],
   "source": [
    "# from keras import optimizers\n",
    "# sgd = optimizers.SGD(lr=0.0003, decay=1e-6, momentum=0.9, nesterov=True)\n",
    "# model.compile(loss='mean_squared_error', optimizer=sgd, metrics = ['accuracy'])\n",
    "model.compile(loss='binary_crossentropy', optimizer='adam', metrics=['accuracy'])"
   ]
  },
  {
   "cell_type": "code",
   "execution_count": 35,
   "metadata": {},
   "outputs": [
    {
     "name": "stdout",
     "output_type": "stream",
     "text": [
      "Train on 64 samples, validate on 16 samples\n",
      "Epoch 1/128\n",
      "64/64 [==============================] - 79s 1s/step - loss: 0.6996 - acc: 0.5469 - val_loss: 0.7374 - val_acc: 0.3125\n",
      "Epoch 2/128\n",
      "64/64 [==============================] - 79s 1s/step - loss: 0.7132 - acc: 0.5312 - val_loss: 0.7382 - val_acc: 0.3125\n",
      "Epoch 3/128\n",
      "64/64 [==============================] - 80s 1s/step - loss: 0.7551 - acc: 0.4062 - val_loss: 0.7297 - val_acc: 0.3125\n",
      "Epoch 4/128\n",
      "64/64 [==============================] - 80s 1s/step - loss: 0.7146 - acc: 0.5000 - val_loss: 0.7306 - val_acc: 0.3125\n",
      "Epoch 5/128\n",
      "64/64 [==============================] - 79s 1s/step - loss: 0.7828 - acc: 0.3906 - val_loss: 0.7189 - val_acc: 0.3125\n",
      "Epoch 6/128\n",
      "64/64 [==============================] - 80s 1s/step - loss: 0.7129 - acc: 0.5781 - val_loss: 0.7192 - val_acc: 0.3125\n",
      "Epoch 7/128\n",
      "64/64 [==============================] - 79s 1s/step - loss: 0.7391 - acc: 0.4844 - val_loss: 0.7284 - val_acc: 0.3125\n",
      "Epoch 8/128\n",
      "64/64 [==============================] - 79s 1s/step - loss: 0.7339 - acc: 0.4531 - val_loss: 0.7330 - val_acc: 0.3125\n",
      "Epoch 9/128\n",
      "64/64 [==============================] - 80s 1s/step - loss: 0.6783 - acc: 0.6406 - val_loss: 0.7238 - val_acc: 0.3125\n",
      "Epoch 10/128\n",
      "64/64 [==============================] - 79s 1s/step - loss: 0.7263 - acc: 0.5156 - val_loss: 0.7205 - val_acc: 0.3125\n",
      "Epoch 11/128\n",
      "64/64 [==============================] - 79s 1s/step - loss: 0.7313 - acc: 0.4688 - val_loss: 0.7248 - val_acc: 0.3125\n",
      "Epoch 12/128\n",
      "64/64 [==============================] - 79s 1s/step - loss: 0.6954 - acc: 0.5781 - val_loss: 0.7297 - val_acc: 0.3125\n",
      "Epoch 13/128\n",
      "64/64 [==============================] - 79s 1s/step - loss: 0.6757 - acc: 0.6094 - val_loss: 0.7351 - val_acc: 0.3125\n",
      "Epoch 14/128\n",
      "64/64 [==============================] - 80s 1s/step - loss: 0.7500 - acc: 0.4844 - val_loss: 0.7293 - val_acc: 0.3125\n",
      "Epoch 15/128\n",
      "64/64 [==============================] - 79s 1s/step - loss: 0.7272 - acc: 0.5156 - val_loss: 0.7364 - val_acc: 0.3125\n",
      "Epoch 16/128\n",
      "64/64 [==============================] - 79s 1s/step - loss: 0.7012 - acc: 0.5469 - val_loss: 0.7279 - val_acc: 0.3125\n",
      "Epoch 17/128\n",
      "64/64 [==============================] - 80s 1s/step - loss: 0.7067 - acc: 0.5625 - val_loss: 0.7211 - val_acc: 0.3125\n",
      "Epoch 18/128\n",
      "64/64 [==============================] - 80s 1s/step - loss: 0.6933 - acc: 0.5000 - val_loss: 0.7283 - val_acc: 0.3125\n",
      "Epoch 19/128\n",
      "64/64 [==============================] - 79s 1s/step - loss: 0.7131 - acc: 0.4688 - val_loss: 0.7264 - val_acc: 0.3125\n",
      "Epoch 20/128\n",
      "64/64 [==============================] - 79s 1s/step - loss: 0.6908 - acc: 0.6094 - val_loss: 0.7366 - val_acc: 0.3125\n",
      "Epoch 21/128\n",
      "64/64 [==============================] - 79s 1s/step - loss: 0.7057 - acc: 0.5000 - val_loss: 0.7318 - val_acc: 0.3125\n",
      "Epoch 22/128\n",
      "64/64 [==============================] - 80s 1s/step - loss: 0.6890 - acc: 0.5469 - val_loss: 0.7385 - val_acc: 0.3125\n",
      "Epoch 23/128\n",
      "64/64 [==============================] - 79s 1s/step - loss: 0.7188 - acc: 0.4844 - val_loss: 0.7387 - val_acc: 0.3125\n",
      "Epoch 24/128\n",
      "64/64 [==============================] - 79s 1s/step - loss: 0.7056 - acc: 0.5156 - val_loss: 0.7388 - val_acc: 0.3125\n",
      "Epoch 25/128\n",
      "64/64 [==============================] - 79s 1s/step - loss: 0.6877 - acc: 0.5625 - val_loss: 0.7374 - val_acc: 0.3125\n",
      "Epoch 26/128\n",
      "64/64 [==============================] - 79s 1s/step - loss: 0.6882 - acc: 0.5156 - val_loss: 0.7338 - val_acc: 0.3125\n",
      "Epoch 27/128\n",
      "64/64 [==============================] - 80s 1s/step - loss: 0.7252 - acc: 0.4375 - val_loss: 0.7373 - val_acc: 0.3125\n",
      "Epoch 28/128\n",
      "64/64 [==============================] - 79s 1s/step - loss: 0.7038 - acc: 0.4375 - val_loss: 0.7302 - val_acc: 0.3125\n",
      "Epoch 29/128\n",
      "64/64 [==============================] - 80s 1s/step - loss: 0.7275 - acc: 0.4688 - val_loss: 0.7292 - val_acc: 0.3125\n",
      "Epoch 30/128\n",
      "64/64 [==============================] - 79s 1s/step - loss: 0.6872 - acc: 0.5156 - val_loss: 0.7286 - val_acc: 0.3125\n",
      "Epoch 31/128\n",
      "64/64 [==============================] - 80s 1s/step - loss: 0.7167 - acc: 0.4531 - val_loss: 0.7209 - val_acc: 0.3125\n",
      "Epoch 32/128\n",
      "64/64 [==============================] - 80s 1s/step - loss: 0.6851 - acc: 0.5781 - val_loss: 0.7258 - val_acc: 0.3125\n",
      "Epoch 33/128\n",
      "64/64 [==============================] - 80s 1s/step - loss: 0.6819 - acc: 0.5469 - val_loss: 0.7269 - val_acc: 0.3125\n",
      "Epoch 34/128\n",
      "64/64 [==============================] - 79s 1s/step - loss: 0.6884 - acc: 0.5156 - val_loss: 0.7262 - val_acc: 0.3125\n",
      "Epoch 35/128\n",
      "64/64 [==============================] - 79s 1s/step - loss: 0.6748 - acc: 0.6094 - val_loss: 0.7224 - val_acc: 0.3125\n",
      "Epoch 36/128\n",
      "64/64 [==============================] - 79s 1s/step - loss: 0.7065 - acc: 0.5156 - val_loss: 0.7262 - val_acc: 0.3125\n",
      "Epoch 37/128\n",
      "64/64 [==============================] - 80s 1s/step - loss: 0.6620 - acc: 0.6094 - val_loss: 0.7252 - val_acc: 0.3125\n",
      "Epoch 38/128\n",
      "64/64 [==============================] - 80s 1s/step - loss: 0.7155 - acc: 0.4062 - val_loss: 0.7324 - val_acc: 0.3125\n",
      "Epoch 39/128\n",
      "64/64 [==============================] - 80s 1s/step - loss: 0.6851 - acc: 0.5781 - val_loss: 0.7243 - val_acc: 0.3125\n",
      "Epoch 40/128\n",
      "64/64 [==============================] - 80s 1s/step - loss: 0.7025 - acc: 0.5156 - val_loss: 0.7251 - val_acc: 0.3125\n",
      "Epoch 41/128\n",
      "64/64 [==============================] - 80s 1s/step - loss: 0.6657 - acc: 0.6250 - val_loss: 0.7305 - val_acc: 0.3125\n",
      "Epoch 42/128\n",
      "64/64 [==============================] - 79s 1s/step - loss: 0.7051 - acc: 0.4688 - val_loss: 0.7281 - val_acc: 0.3125\n",
      "Epoch 43/128\n",
      "64/64 [==============================] - 79s 1s/step - loss: 0.6986 - acc: 0.5156 - val_loss: 0.7310 - val_acc: 0.3125\n",
      "Epoch 44/128\n",
      "64/64 [==============================] - 80s 1s/step - loss: 0.7055 - acc: 0.5312 - val_loss: 0.7337 - val_acc: 0.3125\n",
      "Epoch 45/128\n",
      "64/64 [==============================] - 79s 1s/step - loss: 0.6961 - acc: 0.5000 - val_loss: 0.7315 - val_acc: 0.3125\n",
      "Epoch 46/128\n",
      "64/64 [==============================] - 79s 1s/step - loss: 0.7177 - acc: 0.4688 - val_loss: 0.7290 - val_acc: 0.3125\n",
      "Epoch 47/128\n",
      "64/64 [==============================] - 79s 1s/step - loss: 0.6991 - acc: 0.5469 - val_loss: 0.7298 - val_acc: 0.3125\n",
      "Epoch 48/128\n",
      "64/64 [==============================] - 79s 1s/step - loss: 0.6793 - acc: 0.5469 - val_loss: 0.7289 - val_acc: 0.3125\n",
      "Epoch 49/128\n",
      "64/64 [==============================] - 79s 1s/step - loss: 0.6954 - acc: 0.6094 - val_loss: 0.7274 - val_acc: 0.3125\n",
      "Epoch 50/128\n",
      "64/64 [==============================] - 80s 1s/step - loss: 0.6865 - acc: 0.5781 - val_loss: 0.7335 - val_acc: 0.3125\n",
      "Epoch 51/128\n",
      "64/64 [==============================] - 79s 1s/step - loss: 0.6899 - acc: 0.5000 - val_loss: 0.7374 - val_acc: 0.3125\n",
      "Epoch 52/128\n",
      "64/64 [==============================] - 81s 1s/step - loss: 0.6693 - acc: 0.6250 - val_loss: 0.7406 - val_acc: 0.3125\n",
      "Epoch 53/128\n",
      "64/64 [==============================] - 79s 1s/step - loss: 0.7020 - acc: 0.4844 - val_loss: 0.7357 - val_acc: 0.3125\n",
      "Epoch 54/128\n",
      "64/64 [==============================] - 79s 1s/step - loss: 0.6965 - acc: 0.5312 - val_loss: 0.7344 - val_acc: 0.3125\n",
      "Epoch 55/128\n",
      "64/64 [==============================] - 79s 1s/step - loss: 0.6789 - acc: 0.5625 - val_loss: 0.7330 - val_acc: 0.3125\n",
      "Epoch 56/128\n",
      "64/64 [==============================] - 80s 1s/step - loss: 0.6657 - acc: 0.6406 - val_loss: 0.7284 - val_acc: 0.3125\n",
      "Epoch 57/128\n",
      "64/64 [==============================] - 79s 1s/step - loss: 0.7089 - acc: 0.5000 - val_loss: 0.7276 - val_acc: 0.3125\n",
      "Epoch 58/128\n",
      "64/64 [==============================] - 79s 1s/step - loss: 0.7167 - acc: 0.4531 - val_loss: 0.7334 - val_acc: 0.3125\n",
      "Epoch 59/128\n",
      "64/64 [==============================] - 80s 1s/step - loss: 0.6928 - acc: 0.5469 - val_loss: 0.7381 - val_acc: 0.3125\n",
      "Epoch 60/128\n",
      "64/64 [==============================] - 79s 1s/step - loss: 0.6878 - acc: 0.5625 - val_loss: 0.7372 - val_acc: 0.3125\n",
      "Epoch 61/128\n",
      "64/64 [==============================] - 80s 1s/step - loss: 0.6837 - acc: 0.5781 - val_loss: 0.7313 - val_acc: 0.3125\n",
      "Epoch 62/128\n",
      "64/64 [==============================] - 80s 1s/step - loss: 0.7018 - acc: 0.5625 - val_loss: 0.7366 - val_acc: 0.3125\n"
     ]
    },
    {
     "name": "stdout",
     "output_type": "stream",
     "text": [
      "Epoch 63/128\n",
      "64/64 [==============================] - 80s 1s/step - loss: 0.6995 - acc: 0.5938 - val_loss: 0.7308 - val_acc: 0.3125\n",
      "Epoch 64/128\n",
      "64/64 [==============================] - 80s 1s/step - loss: 0.6901 - acc: 0.5312 - val_loss: 0.7351 - val_acc: 0.3125\n",
      "Epoch 65/128\n",
      "64/64 [==============================] - 80s 1s/step - loss: 0.7136 - acc: 0.4844 - val_loss: 0.7374 - val_acc: 0.3125\n",
      "Epoch 66/128\n",
      "64/64 [==============================] - 79s 1s/step - loss: 0.6671 - acc: 0.5625 - val_loss: 0.7324 - val_acc: 0.3125\n",
      "Epoch 67/128\n",
      "64/64 [==============================] - 79s 1s/step - loss: 0.6793 - acc: 0.5625 - val_loss: 0.7334 - val_acc: 0.3125\n",
      "Epoch 68/128\n",
      "64/64 [==============================] - 79s 1s/step - loss: 0.6861 - acc: 0.4375 - val_loss: 0.7330 - val_acc: 0.3125\n",
      "Epoch 69/128\n",
      "64/64 [==============================] - 79s 1s/step - loss: 0.6911 - acc: 0.5000 - val_loss: 0.7277 - val_acc: 0.3125\n",
      "Epoch 70/128\n",
      "64/64 [==============================] - 79s 1s/step - loss: 0.7084 - acc: 0.4844 - val_loss: 0.7319 - val_acc: 0.3125\n",
      "Epoch 71/128\n",
      "64/64 [==============================] - 79s 1s/step - loss: 0.6941 - acc: 0.5469 - val_loss: 0.7317 - val_acc: 0.3125\n",
      "Epoch 72/128\n",
      "64/64 [==============================] - 79s 1s/step - loss: 0.6698 - acc: 0.5938 - val_loss: 0.7337 - val_acc: 0.3125\n",
      "Epoch 73/128\n",
      "64/64 [==============================] - 79s 1s/step - loss: 0.6931 - acc: 0.4844 - val_loss: 0.7330 - val_acc: 0.3125\n",
      "Epoch 74/128\n",
      "64/64 [==============================] - 79s 1s/step - loss: 0.7097 - acc: 0.5000 - val_loss: 0.7399 - val_acc: 0.3125\n",
      "Epoch 75/128\n",
      "64/64 [==============================] - 80s 1s/step - loss: 0.7035 - acc: 0.5625 - val_loss: 0.7350 - val_acc: 0.3125\n",
      "Epoch 76/128\n",
      "64/64 [==============================] - 79s 1s/step - loss: 0.7131 - acc: 0.5000 - val_loss: 0.7343 - val_acc: 0.3125\n",
      "Epoch 77/128\n",
      "64/64 [==============================] - 79s 1s/step - loss: 0.6858 - acc: 0.5312 - val_loss: 0.7332 - val_acc: 0.3125\n",
      "Epoch 78/128\n",
      "64/64 [==============================] - 79s 1s/step - loss: 0.6907 - acc: 0.5156 - val_loss: 0.7258 - val_acc: 0.3125\n",
      "Epoch 81/128\n",
      "64/64 [==============================] - 80s 1s/step - loss: 0.7120 - acc: 0.5000 - val_loss: 0.7251 - val_acc: 0.3125\n",
      "Epoch 82/128\n",
      "64/64 [==============================] - 80s 1s/step - loss: 0.6995 - acc: 0.5312 - val_loss: 0.7245 - val_acc: 0.3125\n",
      "Epoch 83/128\n",
      "64/64 [==============================] - 79s 1s/step - loss: 0.7204 - acc: 0.4062 - val_loss: 0.7207 - val_acc: 0.3125\n",
      "Epoch 84/128\n",
      "64/64 [==============================] - 80s 1s/step - loss: 0.6991 - acc: 0.5469 - val_loss: 0.7224 - val_acc: 0.3125\n",
      "Epoch 85/128\n",
      "64/64 [==============================] - 80s 1s/step - loss: 0.6987 - acc: 0.4531 - val_loss: 0.7243 - val_acc: 0.3125\n",
      "Epoch 86/128\n",
      "64/64 [==============================] - 80s 1s/step - loss: 0.6756 - acc: 0.5938 - val_loss: 0.7273 - val_acc: 0.3125\n",
      "Epoch 87/128\n",
      "64/64 [==============================] - 79s 1s/step - loss: 0.7203 - acc: 0.4531 - val_loss: 0.7252 - val_acc: 0.3125\n",
      "Epoch 88/128\n",
      "64/64 [==============================] - 79s 1s/step - loss: 0.6796 - acc: 0.5156 - val_loss: 0.7298 - val_acc: 0.3125\n",
      "Epoch 89/128\n",
      "64/64 [==============================] - 79s 1s/step - loss: 0.6948 - acc: 0.5156 - val_loss: 0.7296 - val_acc: 0.3125\n",
      "Epoch 90/128\n",
      "64/64 [==============================] - 79s 1s/step - loss: 0.6815 - acc: 0.5781 - val_loss: 0.7303 - val_acc: 0.3125\n",
      "Epoch 91/128\n",
      "64/64 [==============================] - 79s 1s/step - loss: 0.7024 - acc: 0.5000 - val_loss: 0.7242 - val_acc: 0.3125\n",
      "Epoch 92/128\n",
      "64/64 [==============================] - 79s 1s/step - loss: 0.6956 - acc: 0.5312 - val_loss: 0.7249 - val_acc: 0.3125\n",
      "Epoch 93/128\n",
      "64/64 [==============================] - 80s 1s/step - loss: 0.6917 - acc: 0.5156 - val_loss: 0.7290 - val_acc: 0.3125\n",
      "Epoch 94/128\n",
      "64/64 [==============================] - 79s 1s/step - loss: 0.6894 - acc: 0.5312 - val_loss: 0.7266 - val_acc: 0.3125\n",
      "Epoch 95/128\n",
      "64/64 [==============================] - 79s 1s/step - loss: 0.6812 - acc: 0.5781 - val_loss: 0.7303 - val_acc: 0.3125\n",
      "Epoch 96/128\n",
      "64/64 [==============================] - 79s 1s/step - loss: 0.7046 - acc: 0.5000 - val_loss: 0.7320 - val_acc: 0.3125\n",
      "Epoch 97/128\n",
      "64/64 [==============================] - 79s 1s/step - loss: 0.6868 - acc: 0.5156 - val_loss: 0.7297 - val_acc: 0.3125\n",
      "Epoch 98/128\n",
      "64/64 [==============================] - 79s 1s/step - loss: 0.6840 - acc: 0.5781 - val_loss: 0.7291 - val_acc: 0.3125\n",
      "Epoch 99/128\n",
      "64/64 [==============================] - 79s 1s/step - loss: 0.6913 - acc: 0.5781 - val_loss: 0.7273 - val_acc: 0.3125\n",
      "Epoch 100/128\n",
      "64/64 [==============================] - 79s 1s/step - loss: 0.6933 - acc: 0.5469 - val_loss: 0.7287 - val_acc: 0.3125\n",
      "Epoch 101/128\n",
      "64/64 [==============================] - 79s 1s/step - loss: 0.7058 - acc: 0.5156 - val_loss: 0.7269 - val_acc: 0.3125\n",
      "Epoch 102/128\n",
      "64/64 [==============================] - 79s 1s/step - loss: 0.6957 - acc: 0.5156 - val_loss: 0.7329 - val_acc: 0.3125\n",
      "Epoch 103/128\n",
      "64/64 [==============================] - 79s 1s/step - loss: 0.6952 - acc: 0.5469 - val_loss: 0.7324 - val_acc: 0.3125\n",
      "Epoch 104/128\n",
      "64/64 [==============================] - 79s 1s/step - loss: 0.6918 - acc: 0.5312 - val_loss: 0.7327 - val_acc: 0.3125\n",
      "Epoch 105/128\n",
      "64/64 [==============================] - 79s 1s/step - loss: 0.7011 - acc: 0.5312 - val_loss: 0.7296 - val_acc: 0.3125\n",
      "Epoch 106/128\n",
      "64/64 [==============================] - 79s 1s/step - loss: 0.6928 - acc: 0.5000 - val_loss: 0.7303 - val_acc: 0.3125\n",
      "Epoch 107/128\n",
      "64/64 [==============================] - 79s 1s/step - loss: 0.6990 - acc: 0.4531 - val_loss: 0.7284 - val_acc: 0.3125\n",
      "Epoch 108/128\n",
      "64/64 [==============================] - 80s 1s/step - loss: 0.6861 - acc: 0.4531 - val_loss: 0.7304 - val_acc: 0.3125\n",
      "Epoch 109/128\n",
      "64/64 [==============================] - 79s 1s/step - loss: 0.7020 - acc: 0.5156 - val_loss: 0.7281 - val_acc: 0.3125\n",
      "Epoch 110/128\n",
      "64/64 [==============================] - 79s 1s/step - loss: 0.6933 - acc: 0.5625 - val_loss: 0.7305 - val_acc: 0.3125\n",
      "Epoch 111/128\n",
      "64/64 [==============================] - 79s 1s/step - loss: 0.6800 - acc: 0.5469 - val_loss: 0.7278 - val_acc: 0.3125\n",
      "Epoch 112/128\n",
      "64/64 [==============================] - 79s 1s/step - loss: 0.6987 - acc: 0.5469 - val_loss: 0.7289 - val_acc: 0.3125\n",
      "Epoch 113/128\n",
      "64/64 [==============================] - 79s 1s/step - loss: 0.7078 - acc: 0.4531 - val_loss: 0.7241 - val_acc: 0.3125\n",
      "Epoch 114/128\n",
      "64/64 [==============================] - 79s 1s/step - loss: 0.6994 - acc: 0.4375 - val_loss: 0.7267 - val_acc: 0.3125\n",
      "Epoch 115/128\n",
      "64/64 [==============================] - 79s 1s/step - loss: 0.6865 - acc: 0.5625 - val_loss: 0.7237 - val_acc: 0.3125\n",
      "Epoch 116/128\n",
      "64/64 [==============================] - 80s 1s/step - loss: 0.6888 - acc: 0.5469 - val_loss: 0.7240 - val_acc: 0.3125\n",
      "Epoch 117/128\n",
      "64/64 [==============================] - 79s 1s/step - loss: 0.6945 - acc: 0.5312 - val_loss: 0.7275 - val_acc: 0.3125\n",
      "Epoch 118/128\n",
      "64/64 [==============================] - 79s 1s/step - loss: 0.6779 - acc: 0.5625 - val_loss: 0.7288 - val_acc: 0.3125\n",
      "Epoch 119/128\n",
      "64/64 [==============================] - 79s 1s/step - loss: 0.7000 - acc: 0.5469 - val_loss: 0.7296 - val_acc: 0.3125\n",
      "Epoch 120/128\n",
      "64/64 [==============================] - 79s 1s/step - loss: 0.6949 - acc: 0.5312 - val_loss: 0.7254 - val_acc: 0.3125\n",
      "Epoch 121/128\n",
      "64/64 [==============================] - 79s 1s/step - loss: 0.6843 - acc: 0.5938 - val_loss: 0.7231 - val_acc: 0.3125\n",
      "Epoch 122/128\n",
      "64/64 [==============================] - 79s 1s/step - loss: 0.6950 - acc: 0.5469 - val_loss: 0.7262 - val_acc: 0.3125\n",
      "Epoch 123/128\n",
      "64/64 [==============================] - 79s 1s/step - loss: 0.6783 - acc: 0.5938 - val_loss: 0.7261 - val_acc: 0.3125\n",
      "Epoch 124/128\n",
      "64/64 [==============================] - 79s 1s/step - loss: 0.6974 - acc: 0.5625 - val_loss: 0.7293 - val_acc: 0.3125\n",
      "Epoch 125/128\n",
      "64/64 [==============================] - 79s 1s/step - loss: 0.6780 - acc: 0.5469 - val_loss: 0.7280 - val_acc: 0.3125\n",
      "Epoch 126/128\n",
      "64/64 [==============================] - 79s 1s/step - loss: 0.6887 - acc: 0.5469 - val_loss: 0.7268 - val_acc: 0.3125\n"
     ]
    },
    {
     "name": "stdout",
     "output_type": "stream",
     "text": [
      "Epoch 127/128\n",
      "64/64 [==============================] - 80s 1s/step - loss: 0.6980 - acc: 0.5625 - val_loss: 0.7325 - val_acc: 0.3125\n",
      "Epoch 128/128\n",
      "64/64 [==============================] - 79s 1s/step - loss: 0.6921 - acc: 0.5781 - val_loss: 0.7298 - val_acc: 0.3125\n"
     ]
    },
    {
     "data": {
      "text/plain": [
       "<keras.callbacks.History at 0x7f1cf1faedd8>"
      ]
     },
     "execution_count": 35,
     "metadata": {},
     "output_type": "execute_result"
    }
   ],
   "source": [
    "model.fit(X_train, y_train, epochs=128, batch_size=2,validation_data=(X_test, y_test))"
   ]
  },
  {
   "cell_type": "code",
   "execution_count": 36,
   "metadata": {},
   "outputs": [
    {
     "name": "stdout",
     "output_type": "stream",
     "text": [
      "16/16 [==============================] - 5s 309ms/step\n",
      "[0.7297717146575451, 0.3125]\n"
     ]
    }
   ],
   "source": [
    "score = model.evaluate(X_test, y_test, batch_size=1)\n",
    "print(score)"
   ]
  },
  {
   "cell_type": "code",
   "execution_count": 37,
   "metadata": {},
   "outputs": [
    {
     "data": {
      "text/plain": [
       "array([[0],\n",
       "       [0],\n",
       "       [0],\n",
       "       [0],\n",
       "       [0],\n",
       "       [0],\n",
       "       [0],\n",
       "       [0],\n",
       "       [0],\n",
       "       [0],\n",
       "       [0],\n",
       "       [0],\n",
       "       [0],\n",
       "       [0],\n",
       "       [0],\n",
       "       [0]], dtype=int32)"
      ]
     },
     "execution_count": 37,
     "metadata": {},
     "output_type": "execute_result"
    }
   ],
   "source": [
    "model.predict(X_test, batch_size=1)\n",
    "model.predict_classes(X_test,batch_size=1)"
   ]
  },
  {
   "cell_type": "code",
   "execution_count": 38,
   "metadata": {},
   "outputs": [],
   "source": [
    "import h5py\n",
    "model.save_weights('better_weights.h5')"
   ]
  },
  {
   "cell_type": "code",
   "execution_count": null,
   "metadata": {},
   "outputs": [],
   "source": []
  }
 ],
 "metadata": {
  "kernelspec": {
   "display_name": "Python 3",
   "language": "python",
   "name": "python3"
  },
  "language_info": {
   "codemirror_mode": {
    "name": "ipython",
    "version": 3
   },
   "file_extension": ".py",
   "mimetype": "text/x-python",
   "name": "python",
   "nbconvert_exporter": "python",
   "pygments_lexer": "ipython3",
   "version": "3.5.5"
  }
 },
 "nbformat": 4,
 "nbformat_minor": 2
}
