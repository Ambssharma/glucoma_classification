{
 "cells": [
  {
   "cell_type": "code",
   "execution_count": 2,
   "metadata": {},
   "outputs": [],
   "source": [
    "import glob\n",
    "import numpy as np\n",
    "from PIL import *\n",
    "import PIL.Image"
   ]
  },
  {
   "cell_type": "code",
   "execution_count": 3,
   "metadata": {},
   "outputs": [
    {
     "name": "stdout",
     "output_type": "stream",
     "text": [
      "(40, 497, 497, 3)\n"
     ]
    }
   ],
   "source": [
    "filelist = glob.glob('train/cropped/glu/*.jpg')              #change '/'\n",
    "glu = np.array([np.array(Image.open(fname)) for fname in filelist])\n",
    "print(glu.shape)"
   ]
  },
  {
   "cell_type": "code",
   "execution_count": 4,
   "metadata": {},
   "outputs": [
    {
     "name": "stdout",
     "output_type": "stream",
     "text": [
      "(46, 497, 497, 3)\n"
     ]
    }
   ],
   "source": [
    "filelist = glob.glob('train/cropped/nglu/*.jpg')         #change '/'\n",
    "nonglu = np.array([np.array(Image.open(fname)) for fname in filelist])\n",
    "print(nonglu.shape)"
   ]
  },
  {
   "cell_type": "code",
   "execution_count": 5,
   "metadata": {},
   "outputs": [
    {
     "name": "stdout",
     "output_type": "stream",
     "text": [
      "(86, 497, 497, 3)\n",
      "(497, 497, 3)\n"
     ]
    }
   ],
   "source": [
    "X = np.concatenate((glu,nonglu),axis=0)\n",
    "print(X.shape)\n",
    "print(X[1,:].shape)"
   ]
  },
  {
   "cell_type": "code",
   "execution_count": 6,
   "metadata": {},
   "outputs": [
    {
     "name": "stdout",
     "output_type": "stream",
     "text": [
      "(86,)\n"
     ]
    }
   ],
   "source": [
    "gluL = np.array([1 for i in range(40)])\n",
    "nongluL = np.array([0 for i in range(46)])\n",
    "y = np.concatenate((gluL,nongluL),axis=0)\n",
    "print(y.shape)"
   ]
  },
  {
   "cell_type": "code",
   "execution_count": 7,
   "metadata": {},
   "outputs": [
    {
     "name": "stdout",
     "output_type": "stream",
     "text": [
      "(68, 497, 497, 3) (18, 497, 497, 3) (68,) (18,)\n",
      "[0 1 0 1 1 0 1 1 1 0 0 0 0 0 0 0 1 0]\n"
     ]
    }
   ],
   "source": [
    "from sklearn.model_selection import train_test_split\n",
    "X_train, X_test, y_train, y_test = train_test_split(X,y,test_size=0.20, random_state=42)\n",
    "print(X_train.shape, X_test.shape, y_train.shape, y_test.shape)\n",
    "print(y_test)"
   ]
  },
  {
   "cell_type": "code",
   "execution_count": 8,
   "metadata": {},
   "outputs": [
    {
     "name": "stderr",
     "output_type": "stream",
     "text": [
      "/home/subodh_pushkar/anaconda3/lib/python3.5/site-packages/h5py/__init__.py:36: FutureWarning: Conversion of the second argument of issubdtype from `float` to `np.floating` is deprecated. In future, it will be treated as `np.float64 == np.dtype(float).type`.\n",
      "  from ._conv import register_converters as _register_converters\n",
      "Using TensorFlow backend.\n"
     ]
    }
   ],
   "source": [
    "from keras.models import Sequential\n",
    "from keras.layers import Activation, Conv2D, MaxPooling2D, Flatten, Dropout,Dense,LeakyReLU\n",
    "model = Sequential()\n",
    "\n",
    "model.add(Conv2D(32, (3,3), padding='same', input_shape=X_train.shape[1:]))\n",
    "model.add(LeakyReLU(alpha=0.1))\n",
    "model.add(Dropout(0.10))\n",
    "model.add(Conv2D(32, (3,3),padding='valid'))\n",
    "model.add(LeakyReLU(alpha=0.1))\n",
    "model.add(Dropout(0.10))\n",
    "model.add(MaxPooling2D(pool_size=(2,2)))\n",
    "\n",
    "model.add(Conv2D(32, (3,3)))\n",
    "model.add(LeakyReLU(alpha=0.1))\n",
    "model.add(Dropout(0.10))\n",
    "model.add(Conv2D(64, (3,3)))\n",
    "model.add(LeakyReLU(alpha=0.1))\n",
    "model.add(Dropout(0.10))\n",
    "model.add(MaxPooling2D(pool_size=(2,2)))\n",
    "\n",
    "model.add(Conv2D(64, (3,3)))\n",
    "model.add(LeakyReLU(alpha=0.1))\n",
    "model.add(Dropout(0.10))\n",
    "model.add(MaxPooling2D(pool_size=(2,2)))\n",
    "model.add(Conv2D(64, (3,3)))\n",
    "model.add(LeakyReLU(alpha=0.1))\n",
    "model.add(Dropout(0.10))\n",
    "model.add(MaxPooling2D(pool_size=(2,2)))\n",
    "\n",
    "model.add(Conv2D(128, (3,3)))\n",
    "model.add(LeakyReLU(alpha=0.1))\n",
    "model.add(Dropout(0.10))\n",
    "model.add(Conv2D(128, (3,3)))\n",
    "model.add(LeakyReLU(alpha=0.1))\n",
    "model.add(Dropout(0.10))\n",
    "model.add(MaxPooling2D(pool_size=(2,2)))\n",
    "\n",
    "model.add(Conv2D(128, (3,3)))\n",
    "model.add(LeakyReLU(alpha=0.1))\n",
    "model.add(Dropout(0.10))\n",
    "model.add(Conv2D(256, (3,3)))\n",
    "model.add(LeakyReLU(alpha=0.1))\n",
    "model.add(Dropout(0.10))\n",
    "model.add(MaxPooling2D(pool_size=(2,2)))\n",
    "\n",
    "model.add(Conv2D(256, (1,1)))\n",
    "model.add(LeakyReLU(alpha=0.1))\n",
    "model.add(Dropout(0.10))\n",
    "\n",
    "model.add(Flatten())\n",
    "model.add(Dense(64))\n",
    "model.add(LeakyReLU(alpha=0.1))\n",
    "model.add(Dropout(0.10))\n",
    "model.add(Dense(16))\n",
    "model.add(LeakyReLU(alpha=0.1))\n",
    "model.add(Dropout(0.10))\n",
    "model.add(Dense(2, activation='sigmoid'))"
   ]
  },
  {
   "cell_type": "code",
   "execution_count": 9,
   "metadata": {
    "scrolled": true
   },
   "outputs": [
    {
     "data": {
      "text/plain": [
       "(None, 2)"
      ]
     },
     "execution_count": 9,
     "metadata": {},
     "output_type": "execute_result"
    }
   ],
   "source": [
    "model.output_shape"
   ]
  },
  {
   "cell_type": "code",
   "execution_count": 10,
   "metadata": {},
   "outputs": [
    {
     "name": "stdout",
     "output_type": "stream",
     "text": [
      "_________________________________________________________________\n",
      "Layer (type)                 Output Shape              Param #   \n",
      "=================================================================\n",
      "conv2d_1 (Conv2D)            (None, 497, 497, 32)      896       \n",
      "_________________________________________________________________\n",
      "leaky_re_lu_1 (LeakyReLU)    (None, 497, 497, 32)      0         \n",
      "_________________________________________________________________\n",
      "dropout_1 (Dropout)          (None, 497, 497, 32)      0         \n",
      "_________________________________________________________________\n",
      "conv2d_2 (Conv2D)            (None, 495, 495, 32)      9248      \n",
      "_________________________________________________________________\n",
      "leaky_re_lu_2 (LeakyReLU)    (None, 495, 495, 32)      0         \n",
      "_________________________________________________________________\n",
      "dropout_2 (Dropout)          (None, 495, 495, 32)      0         \n",
      "_________________________________________________________________\n",
      "max_pooling2d_1 (MaxPooling2 (None, 247, 247, 32)      0         \n",
      "_________________________________________________________________\n",
      "conv2d_3 (Conv2D)            (None, 245, 245, 32)      9248      \n",
      "_________________________________________________________________\n",
      "leaky_re_lu_3 (LeakyReLU)    (None, 245, 245, 32)      0         \n",
      "_________________________________________________________________\n",
      "dropout_3 (Dropout)          (None, 245, 245, 32)      0         \n",
      "_________________________________________________________________\n",
      "conv2d_4 (Conv2D)            (None, 243, 243, 64)      18496     \n",
      "_________________________________________________________________\n",
      "leaky_re_lu_4 (LeakyReLU)    (None, 243, 243, 64)      0         \n",
      "_________________________________________________________________\n",
      "dropout_4 (Dropout)          (None, 243, 243, 64)      0         \n",
      "_________________________________________________________________\n",
      "max_pooling2d_2 (MaxPooling2 (None, 121, 121, 64)      0         \n",
      "_________________________________________________________________\n",
      "conv2d_5 (Conv2D)            (None, 119, 119, 64)      36928     \n",
      "_________________________________________________________________\n",
      "leaky_re_lu_5 (LeakyReLU)    (None, 119, 119, 64)      0         \n",
      "_________________________________________________________________\n",
      "dropout_5 (Dropout)          (None, 119, 119, 64)      0         \n",
      "_________________________________________________________________\n",
      "max_pooling2d_3 (MaxPooling2 (None, 59, 59, 64)        0         \n",
      "_________________________________________________________________\n",
      "conv2d_6 (Conv2D)            (None, 57, 57, 64)        36928     \n",
      "_________________________________________________________________\n",
      "leaky_re_lu_6 (LeakyReLU)    (None, 57, 57, 64)        0         \n",
      "_________________________________________________________________\n",
      "dropout_6 (Dropout)          (None, 57, 57, 64)        0         \n",
      "_________________________________________________________________\n",
      "max_pooling2d_4 (MaxPooling2 (None, 28, 28, 64)        0         \n",
      "_________________________________________________________________\n",
      "conv2d_7 (Conv2D)            (None, 26, 26, 128)       73856     \n",
      "_________________________________________________________________\n",
      "leaky_re_lu_7 (LeakyReLU)    (None, 26, 26, 128)       0         \n",
      "_________________________________________________________________\n",
      "dropout_7 (Dropout)          (None, 26, 26, 128)       0         \n",
      "_________________________________________________________________\n",
      "conv2d_8 (Conv2D)            (None, 24, 24, 128)       147584    \n",
      "_________________________________________________________________\n",
      "leaky_re_lu_8 (LeakyReLU)    (None, 24, 24, 128)       0         \n",
      "_________________________________________________________________\n",
      "dropout_8 (Dropout)          (None, 24, 24, 128)       0         \n",
      "_________________________________________________________________\n",
      "max_pooling2d_5 (MaxPooling2 (None, 12, 12, 128)       0         \n",
      "_________________________________________________________________\n",
      "conv2d_9 (Conv2D)            (None, 10, 10, 128)       147584    \n",
      "_________________________________________________________________\n",
      "leaky_re_lu_9 (LeakyReLU)    (None, 10, 10, 128)       0         \n",
      "_________________________________________________________________\n",
      "dropout_9 (Dropout)          (None, 10, 10, 128)       0         \n",
      "_________________________________________________________________\n",
      "conv2d_10 (Conv2D)           (None, 8, 8, 256)         295168    \n",
      "_________________________________________________________________\n",
      "leaky_re_lu_10 (LeakyReLU)   (None, 8, 8, 256)         0         \n",
      "_________________________________________________________________\n",
      "dropout_10 (Dropout)         (None, 8, 8, 256)         0         \n",
      "_________________________________________________________________\n",
      "max_pooling2d_6 (MaxPooling2 (None, 4, 4, 256)         0         \n",
      "_________________________________________________________________\n",
      "conv2d_11 (Conv2D)           (None, 4, 4, 256)         65792     \n",
      "_________________________________________________________________\n",
      "leaky_re_lu_11 (LeakyReLU)   (None, 4, 4, 256)         0         \n",
      "_________________________________________________________________\n",
      "dropout_11 (Dropout)         (None, 4, 4, 256)         0         \n",
      "_________________________________________________________________\n",
      "flatten_1 (Flatten)          (None, 4096)              0         \n",
      "_________________________________________________________________\n",
      "dense_1 (Dense)              (None, 64)                262208    \n",
      "_________________________________________________________________\n",
      "leaky_re_lu_12 (LeakyReLU)   (None, 64)                0         \n",
      "_________________________________________________________________\n",
      "dropout_12 (Dropout)         (None, 64)                0         \n",
      "_________________________________________________________________\n",
      "dense_2 (Dense)              (None, 16)                1040      \n",
      "_________________________________________________________________\n",
      "leaky_re_lu_13 (LeakyReLU)   (None, 16)                0         \n",
      "_________________________________________________________________\n",
      "dropout_13 (Dropout)         (None, 16)                0         \n",
      "_________________________________________________________________\n",
      "dense_3 (Dense)              (None, 2)                 34        \n",
      "=================================================================\n",
      "Total params: 1,105,010\n",
      "Trainable params: 1,105,010\n",
      "Non-trainable params: 0\n",
      "_________________________________________________________________\n"
     ]
    }
   ],
   "source": [
    "model.summary()"
   ]
  },
  {
   "cell_type": "markdown",
   "metadata": {},
   "source": [
    "# DATA GENERATION"
   ]
  },
  {
   "cell_type": "code",
   "execution_count": 11,
   "metadata": {},
   "outputs": [
    {
     "name": "stdout",
     "output_type": "stream",
     "text": [
      "[1. 0.]\n"
     ]
    }
   ],
   "source": [
    "from keras.utils import np_utils\n",
    "# X_train = X_train.astype('float32')\n",
    "# X_test = X_test.astype('float32')\n",
    "num_classes = 2\n",
    "y_train = np_utils.to_categorical(y_train, num_classes)\n",
    "y_test = np_utils.to_categorical(y_test, num_classes)\n",
    "\n",
    "from keras.preprocessing.image import ImageDataGenerator\n",
    "datagen = ImageDataGenerator\n",
    "\n",
    "datagen = ImageDataGenerator(horizontal_flip=True, vertical_flip=True,\n",
    "                             rotation_range=15, width_shift_range=0.1,\n",
    "                             height_shift_range=0.1,zoom_range=0.2,\n",
    "                             fill_mode='constant', cval=0.0)\n",
    "\n",
    "# print(datagen.fit(X_train))\n",
    "print(y_train[0])\n"
   ]
  },
  {
   "cell_type": "code",
   "execution_count": 12,
   "metadata": {},
   "outputs": [],
   "source": [
    "# from keras.preprocessing.image import ImageDataGenerator, array_to_img, img_to_array, load_img\n",
    "\n",
    "\n",
    "\n",
    "# datagen = ImageDataGenerator(\n",
    "#         horizontal_flip=True, vertical_flip=True,\n",
    "#                              rotation_range=10, width_shift_range=0.1,\n",
    "#                              height_shift_range=0.1,zoom_range=0.2,\n",
    "#                              fill_mode='constant', cval=0.0)\n",
    "\n",
    "# import glob\n",
    "# cv_img = []\n",
    "# for img in glob.glob(\"train/cropped/glu/*.jpg\"):\n",
    "#     # n= cv2.imread(img)\n",
    "#     # cv_img.append(n)\n",
    "\n",
    "#     img = load_img(img)  # this is a PIL image\n",
    "#     x = img_to_array(img)  # this is a Numpy array with shape (3, 150, 150)\n",
    "#     x = x.reshape((1,) + x.shape)  # this is a Numpy array with shape (1, 3, 150, 150)\n",
    "\n",
    "#     # the .flow() command below generates batches of randomly transformed images\n",
    "#     # and saves the results to the `preview/` directory\n",
    "#     i = 0\n",
    "#     for batch in datagen.flow(x, batch_size=1,\n",
    "#                               save_to_dir='train/final_glu_aug', save_prefix='aaaaa', save_format='jpg'):\n",
    "#         i += 1\n",
    "#         if i > 10:\n",
    "#             break  # otherwise the generator would loop indefinitely"
   ]
  },
  {
   "cell_type": "code",
   "execution_count": null,
   "metadata": {},
   "outputs": [],
   "source": []
  },
  {
   "cell_type": "code",
   "execution_count": 13,
   "metadata": {},
   "outputs": [],
   "source": [
    "# from keras import optimizers\n",
    "# sgd = optimizers.SGD(lr=0.0003, decay=1e-6, momentum=0.9, nesterov=True)\n",
    "# model.compile(loss='mean_squared_error', optimizer=sgd, metrics = ['accuracy'])\n",
    "# model.compile(loss='binary_crossentropy', optimizer='adam', metrics=['accuracy'])"
   ]
  },
  {
   "cell_type": "code",
   "execution_count": null,
   "metadata": {
    "scrolled": true
   },
   "outputs": [
    {
     "name": "stdout",
     "output_type": "stream",
     "text": [
      "[INFO] training network...\n",
      "Epoch 1/100\n",
      "68/68 [==============================] - 84s 1s/step - loss: 0.8803 - acc: 0.5735 - val_loss: 0.6961 - val_acc: 0.4722\n",
      "Epoch 2/100\n",
      "68/68 [==============================] - 82s 1s/step - loss: 0.8526 - acc: 0.4412 - val_loss: 0.6928 - val_acc: 0.5000\n",
      "Epoch 3/100\n",
      "68/68 [==============================] - 83s 1s/step - loss: 0.6949 - acc: 0.5515 - val_loss: 0.6885 - val_acc: 0.6111\n",
      "Epoch 4/100\n",
      "68/68 [==============================] - 83s 1s/step - loss: 0.7256 - acc: 0.4632 - val_loss: 0.6869 - val_acc: 0.6389\n",
      "Epoch 5/100\n",
      "68/68 [==============================] - 83s 1s/step - loss: 0.6543 - acc: 0.5882 - val_loss: 0.6825 - val_acc: 0.6111\n",
      "Epoch 6/100\n",
      "68/68 [==============================] - 83s 1s/step - loss: 0.7081 - acc: 0.5441 - val_loss: 0.6851 - val_acc: 0.6667\n",
      "Epoch 7/100\n",
      "68/68 [==============================] - 83s 1s/step - loss: 0.6680 - acc: 0.6103 - val_loss: 0.6920 - val_acc: 0.5556\n",
      "Epoch 8/100\n",
      "68/68 [==============================] - 82s 1s/step - loss: 0.6420 - acc: 0.6324 - val_loss: 0.6897 - val_acc: 0.6111\n",
      "Epoch 9/100\n",
      "68/68 [==============================] - 72s 1s/step - loss: 0.6548 - acc: 0.6324 - val_loss: 0.6940 - val_acc: 0.5000\n",
      "Epoch 10/100\n",
      "68/68 [==============================] - 82s 1s/step - loss: 0.6435 - acc: 0.6029 - val_loss: 0.6944 - val_acc: 0.5000\n",
      "Epoch 11/100\n",
      "68/68 [==============================] - 82s 1s/step - loss: 0.6599 - acc: 0.6324 - val_loss: 0.6849 - val_acc: 0.6944\n",
      "Epoch 12/100\n",
      "68/68 [==============================] - 83s 1s/step - loss: 0.5885 - acc: 0.6838 - val_loss: 0.6966 - val_acc: 0.4722\n",
      "Epoch 13/100\n",
      "68/68 [==============================] - 83s 1s/step - loss: 0.5886 - acc: 0.6765 - val_loss: 0.6951 - val_acc: 0.4444\n",
      "Epoch 14/100\n",
      "68/68 [==============================] - 83s 1s/step - loss: 0.5833 - acc: 0.7059 - val_loss: 0.6965 - val_acc: 0.4722\n",
      "Epoch 15/100\n",
      "68/68 [==============================] - 84s 1s/step - loss: 0.5748 - acc: 0.7132 - val_loss: 0.6891 - val_acc: 0.5833\n",
      "Epoch 16/100\n",
      "68/68 [==============================] - 83s 1s/step - loss: 0.6276 - acc: 0.7059 - val_loss: 0.6775 - val_acc: 0.6111\n",
      "Epoch 17/100\n",
      "68/68 [==============================] - 82s 1s/step - loss: 0.5391 - acc: 0.6912 - val_loss: 0.6923 - val_acc: 0.5278\n",
      "Epoch 18/100\n",
      "68/68 [==============================] - 82s 1s/step - loss: 0.5039 - acc: 0.7868 - val_loss: 0.7016 - val_acc: 0.4444\n",
      "Epoch 19/100\n",
      "68/68 [==============================] - 79s 1s/step - loss: 0.5498 - acc: 0.6985 - val_loss: 0.6665 - val_acc: 0.6111\n",
      "Epoch 20/100\n",
      "68/68 [==============================] - 72s 1s/step - loss: 0.5466 - acc: 0.7794 - val_loss: 0.6980 - val_acc: 0.4722\n",
      "Epoch 21/100\n",
      "68/68 [==============================] - 83s 1s/step - loss: 0.6239 - acc: 0.7279 - val_loss: 0.6724 - val_acc: 0.6389\n",
      "Epoch 22/100\n",
      "68/68 [==============================] - 83s 1s/step - loss: 0.5664 - acc: 0.6985 - val_loss: 0.6969 - val_acc: 0.4722\n",
      "Epoch 23/100\n",
      "68/68 [==============================] - 82s 1s/step - loss: 0.5312 - acc: 0.7500 - val_loss: 0.6815 - val_acc: 0.6111\n",
      "Epoch 24/100\n",
      "68/68 [==============================] - 82s 1s/step - loss: 0.5115 - acc: 0.7353 - val_loss: 0.6820 - val_acc: 0.5278\n",
      "Epoch 25/100\n",
      "68/68 [==============================] - 83s 1s/step - loss: 0.4892 - acc: 0.7794 - val_loss: 0.6567 - val_acc: 0.7222\n",
      "Epoch 26/100\n",
      "68/68 [==============================] - 82s 1s/step - loss: 0.5259 - acc: 0.7721 - val_loss: 0.6479 - val_acc: 0.6667\n",
      "Epoch 27/100\n",
      "68/68 [==============================] - 82s 1s/step - loss: 0.5522 - acc: 0.7206 - val_loss: 0.6656 - val_acc: 0.6667\n",
      "Epoch 28/100\n",
      "68/68 [==============================] - 82s 1s/step - loss: 0.4787 - acc: 0.7647 - val_loss: 0.6517 - val_acc: 0.7500\n",
      "Epoch 29/100\n",
      "68/68 [==============================] - 83s 1s/step - loss: 0.4946 - acc: 0.7721 - val_loss: 0.6634 - val_acc: 0.6944\n",
      "Epoch 30/100\n",
      "68/68 [==============================] - 78s 1s/step - loss: 0.4806 - acc: 0.7868 - val_loss: 0.6546 - val_acc: 0.7222\n",
      "Epoch 31/100\n",
      "68/68 [==============================] - 75s 1s/step - loss: 0.4536 - acc: 0.7721 - val_loss: 0.6460 - val_acc: 0.7500\n",
      "Epoch 32/100\n",
      "68/68 [==============================] - 83s 1s/step - loss: 0.4464 - acc: 0.7500 - val_loss: 0.6426 - val_acc: 0.7778\n",
      "Epoch 33/100\n",
      "68/68 [==============================] - 83s 1s/step - loss: 0.4800 - acc: 0.7353 - val_loss: 0.6512 - val_acc: 0.7778\n",
      "Epoch 34/100\n",
      "68/68 [==============================] - 83s 1s/step - loss: 0.4340 - acc: 0.7941 - val_loss: 0.6544 - val_acc: 0.7222\n",
      "Epoch 35/100\n",
      "68/68 [==============================] - 83s 1s/step - loss: 0.3998 - acc: 0.8235 - val_loss: 0.6438 - val_acc: 0.7778\n",
      "Epoch 36/100\n",
      "68/68 [==============================] - 83s 1s/step - loss: 0.4819 - acc: 0.7647 - val_loss: 0.6381 - val_acc: 0.7778\n",
      "Epoch 37/100\n",
      "68/68 [==============================] - 83s 1s/step - loss: 0.3731 - acc: 0.8235 - val_loss: 0.6470 - val_acc: 0.7222\n",
      "Epoch 38/100\n",
      "68/68 [==============================] - 83s 1s/step - loss: 0.4169 - acc: 0.8456 - val_loss: 0.6360 - val_acc: 0.7222\n",
      "Epoch 39/100\n",
      "68/68 [==============================] - 83s 1s/step - loss: 0.4682 - acc: 0.7721 - val_loss: 0.6387 - val_acc: 0.7778\n",
      "Epoch 40/100\n",
      "68/68 [==============================] - 82s 1s/step - loss: 0.4436 - acc: 0.7941 - val_loss: 0.6321 - val_acc: 0.8056\n",
      "Epoch 41/100\n",
      "68/68 [==============================] - 76s 1s/step - loss: 0.4369 - acc: 0.7794 - val_loss: 0.6348 - val_acc: 0.6667\n",
      "Epoch 42/100\n",
      "68/68 [==============================] - 77s 1s/step - loss: 0.4106 - acc: 0.8088 - val_loss: 0.6305 - val_acc: 0.7500\n",
      "Epoch 43/100\n",
      "68/68 [==============================] - 83s 1s/step - loss: 0.4601 - acc: 0.7647 - val_loss: 0.6265 - val_acc: 0.7778\n",
      "Epoch 44/100\n",
      "68/68 [==============================] - 83s 1s/step - loss: 0.3477 - acc: 0.8456 - val_loss: 0.6209 - val_acc: 0.7778\n",
      "Epoch 45/100\n",
      "68/68 [==============================] - 83s 1s/step - loss: 0.4584 - acc: 0.7794 - val_loss: 0.6270 - val_acc: 0.6667\n",
      "Epoch 46/100\n",
      "68/68 [==============================] - 83s 1s/step - loss: 0.3998 - acc: 0.8309 - val_loss: 0.6195 - val_acc: 0.6667\n",
      "Epoch 47/100\n",
      "68/68 [==============================] - 83s 1s/step - loss: 0.4031 - acc: 0.7868 - val_loss: 0.6237 - val_acc: 0.6667\n",
      "Epoch 48/100\n",
      "68/68 [==============================] - 83s 1s/step - loss: 0.4168 - acc: 0.8088 - val_loss: 0.6277 - val_acc: 0.6667\n",
      "Epoch 49/100\n",
      "68/68 [==============================] - 82s 1s/step - loss: 0.4362 - acc: 0.8015 - val_loss: 0.6380 - val_acc: 0.6944\n",
      "Epoch 50/100\n",
      "68/68 [==============================] - 83s 1s/step - loss: 0.4181 - acc: 0.8015 - val_loss: 0.6125 - val_acc: 0.6667\n",
      "Epoch 51/100\n",
      "68/68 [==============================] - 82s 1s/step - loss: 0.3930 - acc: 0.8603 - val_loss: 0.6199 - val_acc: 0.6667\n",
      "Epoch 52/100\n",
      "68/68 [==============================] - 74s 1s/step - loss: 0.3122 - acc: 0.8750 - val_loss: 0.6400 - val_acc: 0.6667\n",
      "Epoch 53/100\n",
      "68/68 [==============================] - 79s 1s/step - loss: 0.3665 - acc: 0.8529 - val_loss: 0.6216 - val_acc: 0.6667\n",
      "Epoch 54/100\n",
      "68/68 [==============================] - 82s 1s/step - loss: 0.4194 - acc: 0.7647 - val_loss: 0.6220 - val_acc: 0.7222\n",
      "Epoch 55/100\n",
      "68/68 [==============================] - 82s 1s/step - loss: 0.4221 - acc: 0.7794 - val_loss: 0.6179 - val_acc: 0.7778\n",
      "Epoch 56/100\n",
      "68/68 [==============================] - 82s 1s/step - loss: 0.4565 - acc: 0.8088 - val_loss: 0.6184 - val_acc: 0.8333\n",
      "Epoch 57/100\n",
      "68/68 [==============================] - 82s 1s/step - loss: 0.4405 - acc: 0.7647 - val_loss: 0.6149 - val_acc: 0.7500\n",
      "Epoch 58/100\n",
      "68/68 [==============================] - 82s 1s/step - loss: 0.3727 - acc: 0.8382 - val_loss: 0.6216 - val_acc: 0.7500\n",
      "Epoch 59/100\n",
      "68/68 [==============================] - 83s 1s/step - loss: 0.3641 - acc: 0.8162 - val_loss: 0.6204 - val_acc: 0.7778\n",
      "Epoch 60/100\n",
      "68/68 [==============================] - 83s 1s/step - loss: 0.4501 - acc: 0.8162 - val_loss: 0.6326 - val_acc: 0.6944\n",
      "Epoch 61/100\n",
      "68/68 [==============================] - 83s 1s/step - loss: 0.3917 - acc: 0.8309 - val_loss: 0.6267 - val_acc: 0.7222\n",
      "Epoch 62/100\n",
      "68/68 [==============================] - 82s 1s/step - loss: 0.4641 - acc: 0.7647 - val_loss: 0.6357 - val_acc: 0.6667\n"
     ]
    },
    {
     "name": "stdout",
     "output_type": "stream",
     "text": [
      "Epoch 63/100\n",
      "68/68 [==============================] - 72s 1s/step - loss: 0.4300 - acc: 0.7868 - val_loss: 0.6271 - val_acc: 0.7222\n",
      "Epoch 64/100\n",
      "68/68 [==============================] - 80s 1s/step - loss: 0.3925 - acc: 0.8235 - val_loss: 0.6386 - val_acc: 0.6667\n",
      "Epoch 65/100\n",
      "68/68 [==============================] - 82s 1s/step - loss: 0.4205 - acc: 0.7941 - val_loss: 0.6324 - val_acc: 0.7222\n",
      "Epoch 66/100\n",
      "68/68 [==============================] - 83s 1s/step - loss: 0.3820 - acc: 0.8235 - val_loss: 0.6289 - val_acc: 0.7222\n",
      "Epoch 67/100\n",
      "68/68 [==============================] - 82s 1s/step - loss: 0.3696 - acc: 0.8382 - val_loss: 0.6318 - val_acc: 0.7778\n",
      "Epoch 68/100\n",
      "68/68 [==============================] - 82s 1s/step - loss: 0.3733 - acc: 0.8309 - val_loss: 0.6243 - val_acc: 0.6944\n",
      "Epoch 69/100\n",
      "68/68 [==============================] - 83s 1s/step - loss: 0.4084 - acc: 0.8088 - val_loss: 0.6159 - val_acc: 0.7500\n",
      "Epoch 70/100\n",
      "65/68 [===========================>..] - ETA: 3s - loss: 0.4522 - acc: 0.8538"
     ]
    }
   ],
   "source": [
    "from keras.optimizers import *\n",
    "# EPOCHS = 100\n",
    "# INIT_LR = 1e-4\n",
    "# BS = 32\n",
    "# opt = Adam(lr=INIT_LR)\n",
    "model.compile(optimizer=SGD(0.0001),loss=\"binary_crossentropy\",metrics=[\"accuracy\"])\n",
    "# model.compile(loss='binary_crossentropy',\n",
    "#               optimizer='rmsprop',\n",
    "#               metrics=['accuracy'])\n",
    "# train the network\n",
    "print(\"[INFO] training network...\")\n",
    "H = model.fit_generator(datagen.flow(X_train, y_train, batch_size=1),\n",
    "                        validation_data=(X_test, y_test), steps_per_epoch=len(X_train), epochs=100, verbose=1)\n",
    "\n",
    "# model.fit(datagen.flow(X_train, y_train, batch_size=32),steps_per_epoch=len(X_train) / 32, epochs=10,validation_data=(X_test, y_test))"
   ]
  },
  {
   "cell_type": "code",
   "execution_count": null,
   "metadata": {},
   "outputs": [],
   "source": [
    "score = model.evaluate(X_test, y_test, batch_size=16)\n",
    "print(score)"
   ]
  },
  {
   "cell_type": "code",
   "execution_count": null,
   "metadata": {},
   "outputs": [],
   "source": [
    "model.predict(X_test, batch_size=16)\n",
    "model.predict_classes(X_test,batch_size=16)"
   ]
  },
  {
   "cell_type": "code",
   "execution_count": null,
   "metadata": {},
   "outputs": [],
   "source": [
    "import h5py\n",
    "model.save_weights('better_weights.h5')"
   ]
  },
  {
   "cell_type": "code",
   "execution_count": null,
   "metadata": {},
   "outputs": [],
   "source": []
  }
 ],
 "metadata": {
  "kernelspec": {
   "display_name": "Python 3",
   "language": "python",
   "name": "python3"
  },
  "language_info": {
   "codemirror_mode": {
    "name": "ipython",
    "version": 3
   },
   "file_extension": ".py",
   "mimetype": "text/x-python",
   "name": "python",
   "nbconvert_exporter": "python",
   "pygments_lexer": "ipython3",
   "version": "3.5.5"
  }
 },
 "nbformat": 4,
 "nbformat_minor": 2
}
