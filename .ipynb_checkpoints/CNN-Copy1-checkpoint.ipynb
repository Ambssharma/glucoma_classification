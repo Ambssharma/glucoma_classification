{
 "cells": [
  {
   "cell_type": "code",
   "execution_count": 2,
   "metadata": {},
   "outputs": [],
   "source": [
    "import glob\n",
    "import numpy as np\n",
    "from PIL import *\n",
    "import PIL.Image"
   ]
  },
  {
   "cell_type": "code",
   "execution_count": 3,
   "metadata": {},
   "outputs": [
    {
     "name": "stdout",
     "output_type": "stream",
     "text": [
      "(357, 605, 700, 3)\n"
     ]
    }
   ],
   "source": [
    "filelist = glob.glob('train/final_glu_aug/*.jpg')              #change '/'\n",
    "glu = np.array([np.array(Image.open(fname)) for fname in filelist])\n",
    "print(glu.shape)"
   ]
  },
  {
   "cell_type": "code",
   "execution_count": 4,
   "metadata": {},
   "outputs": [
    {
     "name": "stdout",
     "output_type": "stream",
     "text": [
      "(357, 605, 700, 3)\n"
     ]
    }
   ],
   "source": [
    "filelist = glob.glob('train/final_non_glu_aug/*.jpg')         #change '/'\n",
    "nonglu = np.array([np.array(Image.open(fname)) for fname in filelist])\n",
    "print(nonglu.shape)"
   ]
  },
  {
   "cell_type": "code",
   "execution_count": 5,
   "metadata": {},
   "outputs": [
    {
     "name": "stdout",
     "output_type": "stream",
     "text": [
      "(714, 605, 700, 3)\n",
      "(605, 700, 3)\n"
     ]
    }
   ],
   "source": [
    "X = np.concatenate((glu,nonglu),axis=0)\n",
    "print(X.shape)\n",
    "print(X[1,:].shape)"
   ]
  },
  {
   "cell_type": "code",
   "execution_count": 6,
   "metadata": {},
   "outputs": [
    {
     "name": "stdout",
     "output_type": "stream",
     "text": [
      "(714,)\n"
     ]
    }
   ],
   "source": [
    "gluL = np.array([1 for i in range(357)])\n",
    "nongluL = np.array([0 for i in range(357)])\n",
    "y = np.concatenate((gluL,nongluL),axis=0)\n",
    "print(y.shape)"
   ]
  },
  {
   "cell_type": "code",
   "execution_count": 7,
   "metadata": {},
   "outputs": [
    {
     "name": "stdout",
     "output_type": "stream",
     "text": [
      "(714, 605, 700, 3)\n"
     ]
    }
   ],
   "source": [
    "from sklearn.preprocessing import normalize \n",
    "for i in range(714):\n",
    "    X[i,:,:,0] = normalize(X[i,:,:,0])\n",
    "    X[i,:,:,1] = normalize(X[i,:,:,1])\n",
    "    X[i,:,:,2] = normalize(X[i,:,:,2])\n",
    "    \n",
    "print(X.shape)"
   ]
  },
  {
   "cell_type": "code",
   "execution_count": 16,
   "metadata": {},
   "outputs": [
    {
     "name": "stdout",
     "output_type": "stream",
     "text": [
      "(478, 605, 700, 3) (236, 605, 700, 3) (478,) (236,)\n"
     ]
    }
   ],
   "source": [
    "from sklearn.model_selection import train_test_split\n",
    "X_train, X_test, y_train, y_test = train_test_split(X,y,test_size=0.33, random_state=42)\n",
    "print(X_train.shape, X_test.shape, y_train.shape, y_test.shape)"
   ]
  },
  {
   "cell_type": "code",
   "execution_count": 17,
   "metadata": {},
   "outputs": [],
   "source": [
    "from keras.models import Sequential\n",
    "from keras.layers import Activation, Conv2D, MaxPooling2D, Flatten, Dropout,Dense\n",
    "model = Sequential()\n",
    "\n",
    "model.add(Conv2D(32, (3,3), padding='same',kernel_initializer='random_uniform',\n",
    "                bias_initializer='zeros', input_shape=X_train.shape[1:]))\n",
    "model.add(Activation('sigmoid'))\n",
    "model.add(Dropout(0.35))\n",
    "model.add(Conv2D(32, (3,3),padding='valid',kernel_initializer='random_uniform',\n",
    "                bias_initializer='zeros'))\n",
    "model.add(Activation('sigmoid'))\n",
    "model.add(Dropout(0.35))\n",
    "\n",
    "model.add(Conv2D(64, (3,3), strides =2,kernel_initializer='random_uniform',\n",
    "                bias_initializer='zeros'))\n",
    "model.add(Activation('sigmoid'))\n",
    "model.add(Dropout(0.35))\n",
    "model.add(MaxPooling2D(pool_size=(2,2)))\n",
    "\n",
    "model.add(Conv2D(256, (3,3), strides=2,kernel_initializer='random_uniform',\n",
    "                bias_initializer='zeros'))\n",
    "model.add(Activation('sigmoid'))\n",
    "model.add(Dropout(0.35))\n",
    "model.add(MaxPooling2D(pool_size=(2,2)))\n",
    "\n",
    "model.add(Conv2D(512, (3,3), strides =2,kernel_initializer='random_uniform',\n",
    "                bias_initializer='zeros'))\n",
    "model.add(Activation('sigmoid'))\n",
    "model.add(Dropout(0.35))\n",
    "model.add(MaxPooling2D(pool_size=(2,2)))\n",
    "\n",
    "model.add(Conv2D(1024, (1,1), strides =2,kernel_initializer='random_uniform',\n",
    "                bias_initializer='zeros'))\n",
    "model.add(Activation('sigmoid'))\n",
    "model.add(Dropout(0.35))\n",
    "\n",
    "model.add(Flatten())\n",
    "model.add(Dense(32,kernel_initializer='random_uniform',\n",
    "                bias_initializer='zeros'))\n",
    "model.add(Activation('sigmoid'))\n",
    "model.add(Dropout(0.35))\n",
    "model.add(Dense(16,kernel_initializer='random_uniform',\n",
    "                bias_initializer='zeros'))\n",
    "model.add(Activation('sigmoid'))\n",
    "model.add(Dropout(0.5))\n",
    "model.add(Dense(1, activation='sigmoid'))\n"
   ]
  },
  {
   "cell_type": "code",
   "execution_count": 18,
   "metadata": {},
   "outputs": [
    {
     "data": {
      "text/plain": [
       "(None, 1)"
      ]
     },
     "execution_count": 18,
     "metadata": {},
     "output_type": "execute_result"
    }
   ],
   "source": [
    "model.output_shape"
   ]
  },
  {
   "cell_type": "code",
   "execution_count": 19,
   "metadata": {},
   "outputs": [
    {
     "name": "stdout",
     "output_type": "stream",
     "text": [
      "_________________________________________________________________\n",
      "Layer (type)                 Output Shape              Param #   \n",
      "=================================================================\n",
      "conv2d_13 (Conv2D)           (None, 605, 700, 32)      896       \n",
      "_________________________________________________________________\n",
      "activation_17 (Activation)   (None, 605, 700, 32)      0         \n",
      "_________________________________________________________________\n",
      "dropout_17 (Dropout)         (None, 605, 700, 32)      0         \n",
      "_________________________________________________________________\n",
      "conv2d_14 (Conv2D)           (None, 603, 698, 32)      9248      \n",
      "_________________________________________________________________\n",
      "activation_18 (Activation)   (None, 603, 698, 32)      0         \n",
      "_________________________________________________________________\n",
      "dropout_18 (Dropout)         (None, 603, 698, 32)      0         \n",
      "_________________________________________________________________\n",
      "conv2d_15 (Conv2D)           (None, 301, 348, 64)      18496     \n",
      "_________________________________________________________________\n",
      "activation_19 (Activation)   (None, 301, 348, 64)      0         \n",
      "_________________________________________________________________\n",
      "dropout_19 (Dropout)         (None, 301, 348, 64)      0         \n",
      "_________________________________________________________________\n",
      "max_pooling2d_7 (MaxPooling2 (None, 150, 174, 64)      0         \n",
      "_________________________________________________________________\n",
      "conv2d_16 (Conv2D)           (None, 74, 86, 256)       147712    \n",
      "_________________________________________________________________\n",
      "activation_20 (Activation)   (None, 74, 86, 256)       0         \n",
      "_________________________________________________________________\n",
      "dropout_20 (Dropout)         (None, 74, 86, 256)       0         \n",
      "_________________________________________________________________\n",
      "max_pooling2d_8 (MaxPooling2 (None, 37, 43, 256)       0         \n",
      "_________________________________________________________________\n",
      "conv2d_17 (Conv2D)           (None, 18, 21, 512)       1180160   \n",
      "_________________________________________________________________\n",
      "activation_21 (Activation)   (None, 18, 21, 512)       0         \n",
      "_________________________________________________________________\n",
      "dropout_21 (Dropout)         (None, 18, 21, 512)       0         \n",
      "_________________________________________________________________\n",
      "max_pooling2d_9 (MaxPooling2 (None, 9, 10, 512)        0         \n",
      "_________________________________________________________________\n",
      "conv2d_18 (Conv2D)           (None, 5, 5, 1024)        525312    \n",
      "_________________________________________________________________\n",
      "activation_22 (Activation)   (None, 5, 5, 1024)        0         \n",
      "_________________________________________________________________\n",
      "dropout_22 (Dropout)         (None, 5, 5, 1024)        0         \n",
      "_________________________________________________________________\n",
      "flatten_3 (Flatten)          (None, 25600)             0         \n",
      "_________________________________________________________________\n",
      "dense_7 (Dense)              (None, 32)                819232    \n",
      "_________________________________________________________________\n",
      "activation_23 (Activation)   (None, 32)                0         \n",
      "_________________________________________________________________\n",
      "dropout_23 (Dropout)         (None, 32)                0         \n",
      "_________________________________________________________________\n",
      "dense_8 (Dense)              (None, 16)                528       \n",
      "_________________________________________________________________\n",
      "activation_24 (Activation)   (None, 16)                0         \n",
      "_________________________________________________________________\n",
      "dropout_24 (Dropout)         (None, 16)                0         \n",
      "_________________________________________________________________\n",
      "dense_9 (Dense)              (None, 1)                 17        \n",
      "=================================================================\n",
      "Total params: 2,701,601\n",
      "Trainable params: 2,701,601\n",
      "Non-trainable params: 0\n",
      "_________________________________________________________________\n"
     ]
    }
   ],
   "source": [
    "model.summary()"
   ]
  },
  {
   "cell_type": "code",
   "execution_count": 20,
   "metadata": {},
   "outputs": [],
   "source": [
    "# from keras import optimizers\n",
    "# sgd = optimizers.SGD(lr=0.0003, decay=1e-6, momentum=0.9, nesterov=True)\n",
    "# model.compile(loss='mean_squared_error', optimizer=sgd, metrics = ['accuracy'])\n",
    "model.compile(loss='binary_crossentropy', optimizer='adam', metrics=['accuracy'])"
   ]
  },
  {
   "cell_type": "code",
   "execution_count": null,
   "metadata": {},
   "outputs": [
    {
     "name": "stdout",
     "output_type": "stream",
     "text": [
      "Train on 478 samples, validate on 236 samples\n",
      "Epoch 1/10\n",
      "478/478 [==============================] - 575s 1s/step - loss: 0.7891 - acc: 0.4916 - val_loss: 0.7016 - val_acc: 0.5508\n",
      "Epoch 2/10\n",
      "478/478 [==============================] - 577s 1s/step - loss: 0.7758 - acc: 0.4958 - val_loss: 0.6901 - val_acc: 0.5508\n",
      "Epoch 3/10\n",
      "478/478 [==============================] - 577s 1s/step - loss: 0.7350 - acc: 0.4749 - val_loss: 0.6880 - val_acc: 0.5508\n",
      "Epoch 4/10\n",
      "478/478 [==============================] - 575s 1s/step - loss: 0.7165 - acc: 0.4874 - val_loss: 0.6897 - val_acc: 0.5508\n",
      "Epoch 5/10\n",
      "478/478 [==============================] - 577s 1s/step - loss: 0.7102 - acc: 0.5000 - val_loss: 0.6918 - val_acc: 0.5508\n",
      "Epoch 6/10\n",
      "478/478 [==============================] - 577s 1s/step - loss: 0.6949 - acc: 0.5502 - val_loss: 0.6939 - val_acc: 0.4492\n",
      "Epoch 7/10\n",
      "478/478 [==============================] - 576s 1s/step - loss: 0.7184 - acc: 0.5000 - val_loss: 0.6957 - val_acc: 0.4492\n",
      "Epoch 8/10\n",
      "478/478 [==============================] - 575s 1s/step - loss: 0.6907 - acc: 0.5586 - val_loss: 0.6970 - val_acc: 0.4492\n",
      "Epoch 9/10\n",
      "478/478 [==============================] - 577s 1s/step - loss: 0.7142 - acc: 0.4937 - val_loss: 0.6976 - val_acc: 0.4492\n",
      "Epoch 10/10\n",
      "448/478 [===========================>..] - ETA: 31s - loss: 0.6995 - acc: 0.5201 "
     ]
    }
   ],
   "source": [
    "model.fit(X_train, y_train, epochs=10, batch_size=32,validation_data=(X_test, y_test))"
   ]
  },
  {
   "cell_type": "code",
   "execution_count": 27,
   "metadata": {},
   "outputs": [
    {
     "name": "stdout",
     "output_type": "stream",
     "text": [
      "72/72 [==============================] - 20s 281ms/step\n",
      "[0.6945845385392507, 0.4583333333333333]\n"
     ]
    }
   ],
   "source": [
    "score = model.evaluate(X_test, y_test, batch_size=16)\n",
    "print(score)"
   ]
  },
  {
   "cell_type": "code",
   "execution_count": 28,
   "metadata": {},
   "outputs": [
    {
     "data": {
      "text/plain": [
       "array([[0],\n",
       "       [0],\n",
       "       [0],\n",
       "       [0],\n",
       "       [0],\n",
       "       [0],\n",
       "       [0],\n",
       "       [0],\n",
       "       [0],\n",
       "       [0],\n",
       "       [0],\n",
       "       [0],\n",
       "       [0],\n",
       "       [0],\n",
       "       [0],\n",
       "       [0],\n",
       "       [0],\n",
       "       [0],\n",
       "       [0],\n",
       "       [0],\n",
       "       [0],\n",
       "       [0],\n",
       "       [0],\n",
       "       [0],\n",
       "       [0],\n",
       "       [0],\n",
       "       [0],\n",
       "       [0],\n",
       "       [0],\n",
       "       [0],\n",
       "       [0],\n",
       "       [0],\n",
       "       [0],\n",
       "       [0],\n",
       "       [0],\n",
       "       [0],\n",
       "       [0],\n",
       "       [0],\n",
       "       [0],\n",
       "       [0],\n",
       "       [0],\n",
       "       [0],\n",
       "       [0],\n",
       "       [0],\n",
       "       [0],\n",
       "       [0],\n",
       "       [0],\n",
       "       [0],\n",
       "       [0],\n",
       "       [0],\n",
       "       [0],\n",
       "       [0],\n",
       "       [0],\n",
       "       [0],\n",
       "       [0],\n",
       "       [0],\n",
       "       [0],\n",
       "       [0],\n",
       "       [0],\n",
       "       [0],\n",
       "       [0],\n",
       "       [0],\n",
       "       [0],\n",
       "       [0],\n",
       "       [0],\n",
       "       [0],\n",
       "       [0],\n",
       "       [0],\n",
       "       [0],\n",
       "       [0],\n",
       "       [0],\n",
       "       [0]], dtype=int32)"
      ]
     },
     "execution_count": 28,
     "metadata": {},
     "output_type": "execute_result"
    }
   ],
   "source": [
    "model.predict(X_test, batch_size=16)\n",
    "model.predict_classes(X_test,batch_size=16)"
   ]
  },
  {
   "cell_type": "code",
   "execution_count": 29,
   "metadata": {},
   "outputs": [],
   "source": [
    "import h5py\n",
    "model.save_weights('better_weights.h5')"
   ]
  },
  {
   "cell_type": "code",
   "execution_count": null,
   "metadata": {},
   "outputs": [],
   "source": []
  }
 ],
 "metadata": {
  "kernelspec": {
   "display_name": "Python 3",
   "language": "python",
   "name": "python3"
  },
  "language_info": {
   "codemirror_mode": {
    "name": "ipython",
    "version": 3
   },
   "file_extension": ".py",
   "mimetype": "text/x-python",
   "name": "python",
   "nbconvert_exporter": "python",
   "pygments_lexer": "ipython3",
   "version": "3.5.5"
  }
 },
 "nbformat": 4,
 "nbformat_minor": 2
}
